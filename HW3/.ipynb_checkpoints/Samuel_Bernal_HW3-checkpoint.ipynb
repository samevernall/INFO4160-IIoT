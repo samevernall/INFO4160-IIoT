{
 "cells": [
  {
   "cell_type": "markdown",
   "id": "39234984",
   "metadata": {},
   "source": [
    "# Two-part Tutorial on Machine Learning and APIs"
   ]
  },
  {
   "cell_type": "markdown",
   "id": "3e36973d",
   "metadata": {},
   "source": [
    "This Jupyter Notebook contains a tutorial on applying machine learning algorithms to imported datasets, and this tutorial will also explain how to retrieve data from API (Application Programming Interfaces)."
   ]
  },
  {
   "cell_type": "markdown",
   "id": "073f8d2c",
   "metadata": {},
   "source": [
    "\n",
    "**Part 1: Machine Learning**\n",
    "\n",
    "Machine learning refers to the ability of computers to create predictive models based upon recognized patterns within datasets or databases.\n",
    "\n",
    "A keyword within Part 1 of this tutorial is \"predictive model.\"\n",
    "\n",
    "A predictive model is a tool which can be used to analyze data about a certain scenario: \n",
    "Ex: detecting a human face, recognizing a human voice, or predicting a value in stock\n",
    "\n",
    "However, the predictive model has to be built with data which is similar to the scenario that you want to apply the model to. For example, a predictive model trained to detect faces will not be able to work on sound detection. As a result, we will focus heavily on data anaylsis and howto train models on reliable data for your desired application.\n",
    "\n",
    "Within part 1, I will be demonstrating simple steps needed to create a predictive model of whether a student's two test scores will be enough to get them admitted into a school or program\n"
   ]
  },
  {
   "cell_type": "code",
   "execution_count": 1,
   "id": "f3867ed1",
   "metadata": {},
   "outputs": [],
   "source": [
    "# First, you must import your required libraries\n",
    "# These libraries will help you manipulate numerical data \n",
    "# and build models off of mathematical algorithms\n",
    "\n",
    "import pandas as pd\n",
    "import numpy as np\n",
    "from matplotlib import pyplot as plt\n",
    "import sklearn\n",
    "\n",
    "# warning library\n",
    "import warnings\n",
    "warnings.simplefilter(\"ignore\")"
   ]
  },
  {
   "cell_type": "markdown",
   "id": "b524788e",
   "metadata": {},
   "source": [
    "Next, we will be importing our dataset.\n",
    "\n",
    "Data is the foundation of machine learning because all the predictive functions of the model depend on the reliability and meaningfulness of the data that we train the model on.\n",
    "\n",
    "To begin, we will import a csv of student test scores\n"
   ]
  },
  {
   "cell_type": "code",
   "execution_count": 2,
   "id": "e4a6ea4b",
   "metadata": {},
   "outputs": [
    {
     "name": "stdout",
     "output_type": "stream",
     "text": [
      "   Test 1  Test 2  Admit Status\n",
      "0    34.6    78.0             0\n",
      "1    30.3    43.9             0\n",
      "2    35.8    72.9             0\n",
      "3    60.2    86.3             1\n",
      "4    79.0    75.3             1\n"
     ]
    },
    {
     "data": {
      "text/plain": [
       "(100, 3)"
      ]
     },
     "execution_count": 2,
     "metadata": {},
     "output_type": "execute_result"
    }
   ],
   "source": [
    "# The below commands create a dataframe from this data \n",
    "# so that we can manipulate and work with the numbers\n",
    "\n",
    "marks = pd.read_csv ('marks.csv')\n",
    "\n",
    "print(marks.head())\n",
    "marks.shape"
   ]
  },
  {
   "cell_type": "markdown",
   "id": "199ae7ed",
   "metadata": {},
   "source": [
    "The above block shows us that we have 100 pieces of student data from which we can train the model on.\n",
    "\n",
    "Since we have this data, we will now split it into two sets: training and testing\n",
    "\n",
    "- The training set will be the data from which the predicitve model will train on\n",
    "\n",
    "- The test set will be the data from which we will test the model and evaluate how well it performs\n",
    "\n",
    "Due to this, training data is usually larger than the test data because increased training data will allow more examples for the model to base its prediction off of.\n"
   ]
  },
  {
   "cell_type": "markdown",
   "id": "fb7d6278",
   "metadata": {},
   "source": [
    "--------------\n",
    "To create this training test split, we first have to create two new dataframes from the main marks dataframe.\n",
    "\n",
    "Below we have the \"X\" dataframe which has the features which we will train the model on.\n",
    "\n",
    "and we will also create the \"Y\" dataframe which will have the actual label of admittance status."
   ]
  },
  {
   "cell_type": "code",
   "execution_count": 3,
   "id": "0de36b5b",
   "metadata": {},
   "outputs": [],
   "source": [
    "x = marks.drop(columns = ['Admit Status'])\n",
    "y = marks['Admit Status']"
   ]
  },
  {
   "cell_type": "markdown",
   "id": "ced3ce53",
   "metadata": {},
   "source": [
    "From these two dataframes we will create the training and test split"
   ]
  },
  {
   "cell_type": "code",
   "execution_count": 4,
   "id": "bfba1556",
   "metadata": {},
   "outputs": [
    {
     "name": "stdout",
     "output_type": "stream",
     "text": [
      "(85, 2) (15, 2) (85,) (15,)\n"
     ]
    }
   ],
   "source": [
    "# Here we import more tools for creating this split and the algorithm we want to train\n",
    "# The algorithm we have imported is called a Multi Layer Perceptron -- a type of Neural Network\n",
    "from sklearn.model_selection import train_test_split\n",
    "from sklearn.neural_network import MLPClassifier\n",
    "\n",
    "x_train, x_test, y_train, y_test = train_test_split(x, y, random_state=1, test_size = 0.15)\n",
    "\n",
    "print(x_train.shape, x_test.shape, y_train.shape, y_test.shape)"
   ]
  },
  {
   "cell_type": "markdown",
   "id": "04fb1599",
   "metadata": {},
   "source": [
    "The test size parameter within the \"train_test_split\" function is 0.15\n",
    "This number means that we are taking 85% of our data for training and 15% of our data for actual testing.\n",
    "\n",
    "The printed numbers above show the split that we have created. "
   ]
  },
  {
   "cell_type": "markdown",
   "id": "2500b15b",
   "metadata": {},
   "source": [
    "--------------\n",
    "Now that we have created the training and test split, we will use the training data to build our model.\n",
    "\n",
    "We have imported a MLP classifier as the type of algorithm that we would like to fit the model to.\n",
    "As a result, we will fit the MLP classifier to the training data to create a a new model which is representative of our school test scores\n",
    "\n",
    "\n",
    "\n"
   ]
  },
  {
   "cell_type": "code",
   "execution_count": 13,
   "id": "d298f86a",
   "metadata": {},
   "outputs": [
    {
     "data": {
      "text/plain": [
       "MLPClassifier(hidden_layer_sizes=(5, 10, 5), random_state=1, solver='lbfgs')"
      ]
     },
     "execution_count": 13,
     "metadata": {},
     "output_type": "execute_result"
    }
   ],
   "source": [
    "# Here we are training the Multi-Layer Perceptron algorithm to our training data\n",
    "\n",
    "\n",
    "admission_classifier = MLPClassifier(solver='lbfgs', hidden_layer_sizes = (5, 10, 5), random_state=1)\n",
    "\n",
    "# The code within the parantheses the parameters we are assigning to the MLPclassifier\n",
    "# Here we are essentially using choosing which weight to use to optimize the model\n",
    "# and additionally assigning the amount of neurons to create within the classifier\n",
    "\n",
    "admission_classifier.fit(x_train,y_train)\n"
   ]
  },
  {
   "cell_type": "markdown",
   "id": "5bc01c6c",
   "metadata": {},
   "source": [
    "Now we have a trained model called \"admission_classifier\"\n",
    "\n",
    "With this model we can test its accuracy based on the remaining test data that we have left untouched.\n",
    "\n",
    "Since, we have left the test data untouched, we can use the x train data as an input to the model and given this input, the model will make a prediction \"y_predict\" on whether the scores on the two test would result in either\n",
    "- a pass (admission into the school)\n",
    "\n",
    "or\n",
    "\n",
    "- a fail (rejection from the school)\n",
    "\n",
    "---------\n",
    "With these predictions, we will compare them to the true values of the admission results to see how accurate our model predicted with the test values we gave it."
   ]
  },
  {
   "cell_type": "code",
   "execution_count": 14,
   "id": "17de8c33",
   "metadata": {},
   "outputs": [],
   "source": [
    "# below is the given prediction values \"y_predict\" after feeding the model the untouched test values\n",
    "y_predict = admission_classifier.predict(x_test)"
   ]
  },
  {
   "cell_type": "code",
   "execution_count": 15,
   "id": "c40f2273",
   "metadata": {
    "scrolled": true
   },
   "outputs": [
    {
     "name": "stdout",
     "output_type": "stream",
     "text": [
      "              precision    recall  f1-score   support\n",
      "\n",
      "           0       0.00      0.00      0.00         5\n",
      "           1       0.67      1.00      0.80        10\n",
      "\n",
      "    accuracy                           0.67        15\n",
      "   macro avg       0.33      0.50      0.40        15\n",
      "weighted avg       0.44      0.67      0.53        15\n",
      "\n"
     ]
    },
    {
     "data": {
      "text/plain": [
       "<sklearn.metrics._plot.confusion_matrix.ConfusionMatrixDisplay at 0x26da57aaa30>"
      ]
     },
     "execution_count": 15,
     "metadata": {},
     "output_type": "execute_result"
    },
    {
     "data": {
      "image/png": "[encoded data removed]",
      "text/plain": [
       "<Figure size 432x288 with 2 Axes>"
      ]
     },
     "metadata": {
      "needs_background": "light"
     },
     "output_type": "display_data"
    }
   ],
   "source": [
    "# Now we will import more libraries to make a classification report to see how accurately our model predicts values\n",
    "from sklearn.metrics import classification_report, confusion_matrix\n",
    "from sklearn.metrics import ConfusionMatrixDisplay\n",
    "\n",
    "print(classification_report(y_test, y_predict))\n",
    "\n",
    "cm = confusion_matrix(y_test, y_predict, labels=admission_classifier.classes_)\n",
    "disp = ConfusionMatrixDisplay(confusion_matrix=cm,\n",
    "                             display_labels=admission_classifier.classes_)\n",
    "disp.plot()"
   ]
  },
  {
   "cell_type": "markdown",
   "id": "ffc32398",
   "metadata": {},
   "source": [
    "Above, we have created a classification report and confusion matrix.\n",
    "\n",
    "The classification report gives us precision and recall scores which reveal to us how well our predicitive model performs, and the confusion matrix helps us visualize where our model has misclassified data\n",
    "\n",
    "For an explanation, I will break down the confusion matrix. From the confusion matrix, we are shown the there are\n",
    "\n",
    "5 true values for failing/rejecting (the True label of 0)\n",
    "\n",
    "and\n",
    "\n",
    "10 true values for passing/admittance (the True label of 1)\n",
    "\n",
    "\n",
    "Precision scores\n",
    "- Precision scores represent how well the model detected true positives from the number of items that it had labeled as true\n",
    "    - For example, in this confusion matrix, the model predicted all 15 students as being able to pass the exam\n",
    "    - However, actually only 10 of the 15 students actually passed\n",
    "    - as a result (10/15) = 0.667 is the precision score for the true label of 1 (being accepted)\n",
    "    \n",
    "Recall scores\n",
    "- Recall scores represent how well the model detects true positives from the number of items that are actually true\n",
    "    - From this example, there were 10 students who did pass the exam\n",
    "    - the model, labeled all 15 students as passing the exam\n",
    "    - as a result, the model correctly identified the 10 out of 10 students as being accepted\n",
    "    - therefore recall of the true label of 1 (being accepted) is 10/10 = 1.00\n",
    "    \n",
    "Although the recall score is good for the label of 1, we can see that the model is completely broken because it classified all students as passing the exam although 5 of them had failed. This is why the precision and recall for the label of 0 (failing) is 0 for both of them. This means that our current model cannot even predict any of the student failures at all.\n",
    "\n",
    "-------------\n",
    "As a result, we need to fix the MLPclassifier by changing the parameters to more rigorously assess the training data.\n",
    "    \n",
    "    \n"
   ]
  },
  {
   "cell_type": "code",
   "execution_count": 21,
   "id": "936e2103",
   "metadata": {},
   "outputs": [
    {
     "data": {
      "text/plain": [
       "MLPClassifier(hidden_layer_sizes=(20, 30, 20), random_state=1, solver='lbfgs')"
      ]
     },
     "execution_count": 21,
     "metadata": {},
     "output_type": "execute_result"
    }
   ],
   "source": [
    "# Here we are training the Multi-Layer Perceptron again with different parameters\n",
    "\n",
    "\n",
    "admission_classifier = MLPClassifier(solver='lbfgs', hidden_layer_sizes = (20, 30, 20), random_state=1)\n",
    "\n",
    "# Above I have changed the number of neurons within each layer of the neural network\n",
    "# in order to add more classification decisions\n",
    "# By adding more neurons, the model will have to create a more robust and tailored decision making process\n",
    "# when classifying data\n",
    "\n",
    "admission_classifier.fit(x_train,y_train)\n",
    "\n",
    "# here we now train the model again.\n"
   ]
  },
  {
   "cell_type": "code",
   "execution_count": 18,
   "id": "0c4c5152",
   "metadata": {},
   "outputs": [],
   "source": [
    "# now we are rerunning prediction on the test data with our new admission classifier model\n",
    "y_predict = admission_classifier.predict(x_test)"
   ]
  },
  {
   "cell_type": "code",
   "execution_count": 19,
   "id": "0c668718",
   "metadata": {},
   "outputs": [
    {
     "name": "stdout",
     "output_type": "stream",
     "text": [
      "              precision    recall  f1-score   support\n",
      "\n",
      "           0       0.83      1.00      0.91         5\n",
      "           1       1.00      0.90      0.95        10\n",
      "\n",
      "    accuracy                           0.93        15\n",
      "   macro avg       0.92      0.95      0.93        15\n",
      "weighted avg       0.94      0.93      0.93        15\n",
      "\n"
     ]
    },
    {
     "data": {
      "text/plain": [
       "<sklearn.metrics._plot.confusion_matrix.ConfusionMatrixDisplay at 0x26da71b9220>"
      ]
     },
     "execution_count": 19,
     "metadata": {},
     "output_type": "execute_result"
    },
    {
     "data": {
      "image/png": "[encoded data removed]",
      "text/plain": [
       "<Figure size 432x288 with 2 Axes>"
      ]
     },
     "metadata": {
      "needs_background": "light"
     },
     "output_type": "display_data"
    }
   ],
   "source": [
    "# and here, we again rerun the classification report and confusion matrix.\n",
    "from sklearn.metrics import classification_report, confusion_matrix\n",
    "from sklearn.metrics import ConfusionMatrixDisplay\n",
    "\n",
    "print(classification_report(y_test, y_predict))\n",
    "\n",
    "cm = confusion_matrix(y_test, y_predict, labels=admission_classifier.classes_)\n",
    "disp = ConfusionMatrixDisplay(confusion_matrix=cm,\n",
    "                             display_labels=admission_classifier.classes_)\n",
    "disp.plot()"
   ]
  },
  {
   "cell_type": "markdown",
   "id": "442c6d04",
   "metadata": {},
   "source": [
    "Above we have our new confusion matrix, which shows heavily increased precision and recall scores for both the true label of 0 (getting rejected) and the true label of 1 (getting admitted).\n",
    "\n",
    "We only have one misclassification where our model predicted that the our student would get rejected from the school; however, the student had actually passed.\n",
    "\n",
    "This is relatively a good performance since we have correctly classified 14 out of our 15 student cases."
   ]
  },
  {
   "cell_type": "markdown",
   "id": "e017e1be",
   "metadata": {},
   "source": [
    "----------\n",
    "This concludes the Machine Learning segment where I have taught you how to manipulate numerical data, build a predicitve model based on that data, and reiteratively test the model's classification performance in order to improve the its precision and recall scores."
   ]
  },
  {
   "cell_type": "markdown",
   "id": "05bf41b7",
   "metadata": {},
   "source": [
    "# Part 2: API"
   ]
  },
  {
   "cell_type": "markdown",
   "id": "1cb64a00",
   "metadata": {},
   "source": [
    "Now we will be moving onto the scond part of this tutorial.\n",
    "\n",
    "I will be explaining the usage of APIs, and I will give a brief example of how to develop and create one.\n",
    "\n",
    "-------------\n",
    "First, what is an API?\n",
    "An API is an Application Programming Interface.\n",
    "\n",
    "APIs are given this name due to their application as software and internet interfaces for servers, sensors, and equipment which store, create, or contain data.\n",
    "\n",
    "APIs are useful for these applications because they help manage software and IoT (internet of things) concerns such as security of private information (ex: company data, hospital health records, public social media profiles) and retrieval and manageability of data (ex: retrieving data from NASA for research, retrieving confirmed COVID cases from CDC, or companies managing which server data they would like to give to the public).\n",
    "\n",
    "APIs are usually stored on the server which contains the database of information from a company, device, or sensor. By doing so, the API acts as a gateway of what can be released to people trying to retrieve or query data from the server.\n",
    "\n"
   ]
  },
  {
   "cell_type": "markdown",
   "id": "35a8b5a9",
   "metadata": {},
   "source": [
    "-----------------\n",
    "To simulate the functionality of APIs, we will \n",
    "- first, create a local server with an imported database of information\n",
    "- then build an API which will have the ability to send data out from the database server\n"
   ]
  },
  {
   "cell_type": "markdown",
   "id": "5792a748",
   "metadata": {},
   "source": [
    "--------\n",
    "First, we will import a locally saved stocks database to simulate a server with information\n",
    "\n",
    "Your computer will represent a local server and the stocks database represents the information on the server."
   ]
  },
  {
   "cell_type": "code",
   "execution_count": 45,
   "id": "e5d389e4",
   "metadata": {},
   "outputs": [],
   "source": [
    "# Here we import the following tools to interface with a stocks database that we have saved locally\n",
    "\n",
    "import sqlite3\n",
    "import json\n",
    "\n",
    "# now, we use sqlite3 to import and read the stocks database.\n",
    "\n",
    "stocksdb = sqlite3.connect('stocks.db')\n",
    "\n",
    "cur = stocksdb.cursor()\n"
   ]
  },
  {
   "cell_type": "markdown",
   "id": "4961c7a0",
   "metadata": {},
   "source": [
    "Above, we have imported the database and created a cursor to help point to locations within the database that we would like to retrieve information.\n",
    "\n",
    "A useful way to help visualize this data is to also use the app \"DB Browser for SQLite\"\n",
    "\n",
    "After executing the code block below, you should see some rows of the raw data from the stocks database after using the cursor to point to the Google Stock Prices table."
   ]
  },
  {
   "cell_type": "code",
   "execution_count": 55,
   "id": "310a8dd4",
   "metadata": {
    "scrolled": false
   },
   "outputs": [
    {
     "name": "stdout",
     "output_type": "stream",
     "text": [
      "[('2004-08-19', 49.813286, 51.835709, 47.800831, 49.982655, 49.982655, 44871300), ('2004-08-20', 50.316402, 54.336334, 50.062355, 53.95277, 53.95277, 22942800), ('2004-08-23', 55.168217, 56.528118, 54.321388, 54.495735, 54.495735, 18342800), ('2004-08-24', 55.4123, 55.591629, 51.591621, 52.239193, 52.239193, 15319700), ('2004-08-25', 52.284027, 53.798351, 51.746044, 52.802086, 52.802086, 9232100)]\n"
     ]
    }
   ],
   "source": [
    "d1 = cur.execute('''SELECT * FROM GOOG_Stock_Prices ''').fetchmany(5)\n",
    "print(d1)"
   ]
  },
  {
   "cell_type": "markdown",
   "id": "67142467",
   "metadata": {},
   "source": [
    "Now, down below, we also create a pandas dataframe from the Google stocks to data to visualize the data we want to send out of the API.\n",
    "\n",
    "The sql query command also lets us read and query(ask) data from the database and write it into a pandas database \n",
    "that we can visualize\n"
   ]
  },
  {
   "cell_type": "code",
   "execution_count": 54,
   "id": "6ceeec83",
   "metadata": {
    "scrolled": true
   },
   "outputs": [
    {
     "name": "stdout",
     "output_type": "stream",
     "text": [
      "            Date         Open         High          Low        Close  \\\n",
      "0     2004-08-19    49.813286    51.835709    47.800831    49.982655   \n",
      "1     2004-08-20    50.316402    54.336334    50.062355    53.952770   \n",
      "2     2004-08-23    55.168217    56.528118    54.321388    54.495735   \n",
      "3     2004-08-24    55.412300    55.591629    51.591621    52.239193   \n",
      "4     2004-08-25    52.284027    53.798351    51.746044    52.802086   \n",
      "...          ...          ...          ...          ...          ...   \n",
      "3816  2019-10-16  1241.170044  1254.739990  1238.449951  1243.640015   \n",
      "3817  2019-10-17  1250.930054  1263.324951  1249.939941  1253.069946   \n",
      "3818  2019-10-18  1253.459961  1258.890015  1241.079956  1245.489990   \n",
      "3819  2019-10-21  1252.260010  1254.629028  1240.599976  1246.150024   \n",
      "3820  2019-10-22  1247.849976  1250.599976  1241.380005  1242.800049   \n",
      "\n",
      "         AdjClose    Volume  \n",
      "0       49.982655  44871300  \n",
      "1       53.952770  22942800  \n",
      "2       54.495735  18342800  \n",
      "3       52.239193  15319700  \n",
      "4       52.802086   9232100  \n",
      "...           ...       ...  \n",
      "3816  1243.640015   1094600  \n",
      "3817  1253.069946    952400  \n",
      "3818  1245.489990   1352800  \n",
      "3819  1246.150024   1027200  \n",
      "3820  1242.800049   1023800  \n",
      "\n",
      "[3821 rows x 7 columns]\n"
     ]
    },
    {
     "data": {
      "text/html": [
       "<div>\n",
       "<style scoped>\n",
       "    .dataframe tbody tr th:only-of-type {\n",
       "        vertical-align: middle;\n",
       "    }\n",
       "\n",
       "    .dataframe tbody tr th {\n",
       "        vertical-align: top;\n",
       "    }\n",
       "\n",
       "    .dataframe thead th {\n",
       "        text-align: right;\n",
       "    }\n",
       "</style>\n",
       "<table border=\"1\" class=\"dataframe\">\n",
       "  <thead>\n",
       "    <tr style=\"text-align: right;\">\n",
       "      <th></th>\n",
       "      <th>Date</th>\n",
       "      <th>Open</th>\n",
       "      <th>High</th>\n",
       "      <th>Low</th>\n",
       "      <th>Close</th>\n",
       "      <th>AdjClose</th>\n",
       "      <th>Volume</th>\n",
       "    </tr>\n",
       "  </thead>\n",
       "  <tbody>\n",
       "    <tr>\n",
       "      <th>0</th>\n",
       "      <td>2004-08-19</td>\n",
       "      <td>49.813286</td>\n",
       "      <td>51.835709</td>\n",
       "      <td>47.800831</td>\n",
       "      <td>49.982655</td>\n",
       "      <td>49.982655</td>\n",
       "      <td>44871300</td>\n",
       "    </tr>\n",
       "    <tr>\n",
       "      <th>1</th>\n",
       "      <td>2004-08-20</td>\n",
       "      <td>50.316402</td>\n",
       "      <td>54.336334</td>\n",
       "      <td>50.062355</td>\n",
       "      <td>53.952770</td>\n",
       "      <td>53.952770</td>\n",
       "      <td>22942800</td>\n",
       "    </tr>\n",
       "    <tr>\n",
       "      <th>2</th>\n",
       "      <td>2004-08-23</td>\n",
       "      <td>55.168217</td>\n",
       "      <td>56.528118</td>\n",
       "      <td>54.321388</td>\n",
       "      <td>54.495735</td>\n",
       "      <td>54.495735</td>\n",
       "      <td>18342800</td>\n",
       "    </tr>\n",
       "    <tr>\n",
       "      <th>3</th>\n",
       "      <td>2004-08-24</td>\n",
       "      <td>55.412300</td>\n",
       "      <td>55.591629</td>\n",
       "      <td>51.591621</td>\n",
       "      <td>52.239193</td>\n",
       "      <td>52.239193</td>\n",
       "      <td>15319700</td>\n",
       "    </tr>\n",
       "    <tr>\n",
       "      <th>4</th>\n",
       "      <td>2004-08-25</td>\n",
       "      <td>52.284027</td>\n",
       "      <td>53.798351</td>\n",
       "      <td>51.746044</td>\n",
       "      <td>52.802086</td>\n",
       "      <td>52.802086</td>\n",
       "      <td>9232100</td>\n",
       "    </tr>\n",
       "  </tbody>\n",
       "</table>\n",
       "</div>"
      ],
      "text/plain": [
       "         Date       Open       High        Low      Close   AdjClose    Volume\n",
       "0  2004-08-19  49.813286  51.835709  47.800831  49.982655  49.982655  44871300\n",
       "1  2004-08-20  50.316402  54.336334  50.062355  53.952770  53.952770  22942800\n",
       "2  2004-08-23  55.168217  56.528118  54.321388  54.495735  54.495735  18342800\n",
       "3  2004-08-24  55.412300  55.591629  51.591621  52.239193  52.239193  15319700\n",
       "4  2004-08-25  52.284027  53.798351  51.746044  52.802086  52.802086   9232100"
      ]
     },
     "execution_count": 54,
     "metadata": {},
     "output_type": "execute_result"
    }
   ],
   "source": [
    "\n",
    "sql_query = pd.read_sql_query ('''SELECT * FROM GOOG_Stock_Prices ''', stocksdb)\n",
    "\n",
    "stocksdf = pd.DataFrame(sql_query, columns = ['Date', 'Open', 'High', 'Low', 'Close', 'AdjClose', 'Volume'])\n",
    "\n",
    "print(sql_query)\n",
    "stocksdf.head()\n",
    "\n",
    "# below is a table of all the information that is available for stocks on the database"
   ]
  },
  {
   "cell_type": "code",
   "execution_count": 48,
   "id": "c16c166a",
   "metadata": {},
   "outputs": [
    {
     "name": "stdout",
     "output_type": "stream",
     "text": [
      " * Serving Flask app \"__main__\" (lazy loading)\n",
      " * Environment: production\n",
      "   WARNING: This is a development server. Do not use it in a production deployment.\n",
      "   Use a production WSGI server instead.\n",
      " * Debug mode: off\n"
     ]
    },
    {
     "name": "stderr",
     "output_type": "stream",
     "text": [
      " * Running on http://127.0.0.1:5000/ (Press CTRL+C to quit)\n"
     ]
    }
   ],
   "source": [
    "# Next we import Flask which will help us create the API (application) which can send out data from the database\n",
    "from flask import Flask, render_template,request,jsonify\n",
    "\n",
    "# below, I created a json file from the dataframe, so that the data from the database\n",
    "# can be loaded onto the API\n",
    "\n",
    "stocksjson = stocksdf.to_json()\n",
    "\n",
    "# Below we create our API by using flask\n",
    "app = Flask(__name__)\n",
    "\n",
    "@app.route('/')\n",
    "def serve(methods = ['GET','POST']):\n",
    "\n",
    "    # on this step we use the jsonify command make the json file palatable for the flask app\n",
    "    data_json = jsonify(stocksjson)\n",
    "    \n",
    "    # and now we use the return function to paste the data from the table onto the URL\n",
    "    # that the flask app gives us\n",
    "    \n",
    "    return data_json\n",
    "\n",
    "app.run(debug=False)"
   ]
  },
  {
   "cell_type": "markdown",
   "id": "4fedd947",
   "metadata": {},
   "source": [
    "Upon clicking and running the URL above, you will see that the raw data from the table is posted on the given IP address. This process shows how data can be transmitted from a local server and set out onto the internet by using an API.\n",
    "\n",
    "This example also implicates that APIs can be selective or restrictive with what data can be shared. When the API is developed further, query methods can be organized on the API to make the internet server restricted to accessing only some of the information which is available on the database.\n"
   ]
  },
  {
   "cell_type": "markdown",
   "id": "501fbf34",
   "metadata": {},
   "source": [
    "-------------\n",
    "\n",
    "This section now concludes part 2 of building APIs. From this example, I have taught you how to replicate a local server and database and how to create a rudimentary API which can transmit data onto the internet.\n",
    "\n",
    "\n"
   ]
  }
 ],
 "metadata": {
  "kernelspec": {
   "display_name": "Python 3",
   "language": "python",
   "name": "python3"
  },
  "language_info": {
   "codemirror_mode": {
    "name": "ipython",
    "version": 3
   },
   "file_extension": ".py",
   "mimetype": "text/x-python",
   "name": "python",
   "nbconvert_exporter": "python",
   "pygments_lexer": "ipython3",
   "version": "3.8.8"
  }
 },
 "nbformat": 4,
 "nbformat_minor": 5
}
