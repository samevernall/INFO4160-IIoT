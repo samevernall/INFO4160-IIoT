{
 "cells": [
  {
   "cell_type": "code",
   "execution_count": 1,
   "id": "7cc15598",
   "metadata": {},
   "outputs": [],
   "source": [
    "# import needed libraries and modules\n",
    "\n",
    "import pandas as pd\n",
    "import numpy as np\n",
    "from matplotlib import pyplot as plt\n",
    "import sklearn\n",
    "\n",
    "# warning library\n",
    "import warnings\n",
    "warnings.simplefilter(\"ignore\")\n"
   ]
  },
  {
   "cell_type": "code",
   "execution_count": 2,
   "id": "186bcb3c",
   "metadata": {},
   "outputs": [
    {
     "name": "stdout",
     "output_type": "stream",
     "text": [
      "   label  1  2  3  4  5  6  7  8  9  ...  775  776  777  778  779  780  781  \\\n",
      "0      5  0  0  0  0  0  0  0  0  0  ...    0    0    0    0    0    0    0   \n",
      "1      0  0  0  0  0  0  0  0  0  0  ...    0    0    0    0    0    0    0   \n",
      "2      4  0  0  0  0  0  0  0  0  0  ...    0    0    0    0    0    0    0   \n",
      "3      1  0  0  0  0  0  0  0  0  0  ...    0    0    0    0    0    0    0   \n",
      "4      9  0  0  0  0  0  0  0  0  0  ...    0    0    0    0    0    0    0   \n",
      "\n",
      "   782  783  784  \n",
      "0    0    0    0  \n",
      "1    0    0    0  \n",
      "2    0    0    0  \n",
      "3    0    0    0  \n",
      "4    0    0    0  \n",
      "\n",
      "[5 rows x 785 columns]\n"
     ]
    },
    {
     "data": {
      "text/plain": [
       "(60000, 785)"
      ]
     },
     "execution_count": 2,
     "metadata": {},
     "output_type": "execute_result"
    }
   ],
   "source": [
    "# Import csv of array data for drawn numbers (0-9)\n",
    "\n",
    "images = pd.read_csv('mnist_train.csv')\n",
    "\n",
    "# Visualize data and view shape\n",
    "\n",
    "print(images.head())\n",
    "images.shape"
   ]
  },
  {
   "cell_type": "code",
   "execution_count": 9,
   "id": "5611b9f6",
   "metadata": {},
   "outputs": [],
   "source": [
    "# splitting data fraom into x and y for train\n",
    "\n",
    "# Image data without label column (X)\n",
    "image_data_x = images.drop(columns = ['label'])\n",
    "\n",
    "# Image labels for the type of integer displayed (Y)\n",
    "image_label_y = images['label']"
   ]
  },
  {
   "cell_type": "code",
   "execution_count": 10,
   "id": "9695fd07",
   "metadata": {},
   "outputs": [
    {
     "data": {
      "text/plain": [
       "MLPClassifier(hidden_layer_sizes=(20, 30, 20), random_state=1, solver='lbfgs')"
      ]
     },
     "execution_count": 10,
     "metadata": {},
     "output_type": "execute_result"
    }
   ],
   "source": [
    "from sklearn.neural_network import MLPClassifier\n",
    "\n",
    "# Import multi-layer perceptron and train on all image data\n",
    "\n",
    "number_classifier = MLPClassifier(solver='lbfgs', hidden_layer_sizes = (20, 30, 20), random_state=1)\n",
    "number_classifier.fit(image_data_x, image_label_y)"
   ]
  },
  {
   "cell_type": "code",
   "execution_count": 11,
   "id": "5544dd82",
   "metadata": {},
   "outputs": [],
   "source": [
    "### Saving model as sav file\n",
    "\n",
    "import pickle\n",
    "\n",
    "filename = 'number_classifier.sav'\n",
    "pickle.dump(number_classifier, open(filename, 'wb'))\n"
   ]
  },
  {
   "cell_type": "code",
   "execution_count": null,
   "id": "8bd85a2a",
   "metadata": {},
   "outputs": [],
   "source": []
  },
  {
   "cell_type": "code",
   "execution_count": 60,
   "id": "ea19ea43",
   "metadata": {
    "scrolled": true
   },
   "outputs": [
    {
     "name": "stdout",
     "output_type": "stream",
     "text": [
      " * Serving Flask app \"__main__\" (lazy loading)\n",
      " * Environment: production\n",
      "   WARNING: This is a development server. Do not use it in a production deployment.\n",
      "   Use a production WSGI server instead.\n",
      " * Debug mode: off\n"
     ]
    },
    {
     "name": "stderr",
     "output_type": "stream",
     "text": [
      " * Running on http://127.0.0.1:5000/ (Press CTRL+C to quit)\n",
      "127.0.0.1 - - [26/Oct/2021 20:27:31] \"\u001b[37mGET / HTTP/1.1\u001b[0m\" 200 -\n",
      "127.0.0.1 - - [26/Oct/2021 20:27:37] \"\u001b[37mGET /predict HTTP/1.1\u001b[0m\" 200 -\n",
      "[2021-10-26 20:27:54,957] ERROR in app: Exception on /accuracy [GET]\n",
      "Traceback (most recent call last):\n",
      "  File \"C:\\Users\\12053\\anaconda3\\lib\\site-packages\\flask\\app.py\", line 2447, in wsgi_app\n",
      "    response = self.full_dispatch_request()\n",
      "  File \"C:\\Users\\12053\\anaconda3\\lib\\site-packages\\flask\\app.py\", line 1952, in full_dispatch_request\n",
      "    rv = self.handle_user_exception(e)\n",
      "  File \"C:\\Users\\12053\\anaconda3\\lib\\site-packages\\flask\\app.py\", line 1821, in handle_user_exception\n",
      "    reraise(exc_type, exc_value, tb)\n",
      "  File \"C:\\Users\\12053\\anaconda3\\lib\\site-packages\\flask\\_compat.py\", line 39, in reraise\n",
      "    raise value\n",
      "  File \"C:\\Users\\12053\\anaconda3\\lib\\site-packages\\flask\\app.py\", line 1950, in full_dispatch_request\n",
      "    rv = self.dispatch_request()\n",
      "  File \"C:\\Users\\12053\\anaconda3\\lib\\site-packages\\flask\\app.py\", line 1936, in dispatch_request\n",
      "    return self.view_functions[rule.endpoint](**req.view_args)\n",
      "  File \"<ipython-input-60-f8c24943adb3>\", line 53, in actor\n",
      "    print(classification_report(mnist_label_db, num_predict_df))\n",
      "  File \"C:\\Users\\12053\\anaconda3\\lib\\site-packages\\sklearn\\utils\\validation.py\", line 63, in inner_f\n",
      "    return f(*args, **kwargs)\n",
      "  File \"C:\\Users\\12053\\anaconda3\\lib\\site-packages\\sklearn\\metrics\\_classification.py\", line 1966, in classification_report\n",
      "    y_type, y_true, y_pred = _check_targets(y_true, y_pred)\n",
      "  File \"C:\\Users\\12053\\anaconda3\\lib\\site-packages\\sklearn\\metrics\\_classification.py\", line 83, in _check_targets\n",
      "    check_consistent_length(y_true, y_pred)\n",
      "  File \"C:\\Users\\12053\\anaconda3\\lib\\site-packages\\sklearn\\utils\\validation.py\", line 259, in check_consistent_length\n",
      "    lengths = [_num_samples(X) for X in arrays if X is not None]\n",
      "  File \"C:\\Users\\12053\\anaconda3\\lib\\site-packages\\sklearn\\utils\\validation.py\", line 259, in <listcomp>\n",
      "    lengths = [_num_samples(X) for X in arrays if X is not None]\n",
      "  File \"C:\\Users\\12053\\anaconda3\\lib\\site-packages\\sklearn\\utils\\validation.py\", line 198, in _num_samples\n",
      "    raise TypeError(message)\n",
      "TypeError: Expected sequence or array-like, got <class 'sqlite3.Connection'>\n",
      "127.0.0.1 - - [26/Oct/2021 20:27:54] \"\u001b[35m\u001b[1mGET /accuracy HTTP/1.1\u001b[0m\" 500 -\n"
     ]
    }
   ],
   "source": [
    "from flask import Flask, request, jsonify, render_template,url_for\n",
    "import sqlite3\n",
    "import json\n",
    "from sklearn.metrics import classification_report, confusion_matrix\n",
    "from sklearn.metrics import ConfusionMatrixDisplay, accuracy_score\n",
    "\n",
    "app = Flask(__name__)\n",
    "\n",
    "# begin writing cursors for the two data bases \"mnist\" and \"mnist_label\"\n",
    "\n",
    "# -------------  TEST DATA \"mnist\"\n",
    "\n",
    "# db read for mnist data and corresponding cursor\n",
    "mnist_db= sqlite3.connect('mnist.db')\n",
    "cursor1 = mnist_db.cursor()\n",
    "\n",
    "#creating list and then dataframe from mnist test data\n",
    "d1 = cursor1.execute(\"SELECT * FROM mnist_test\").fetchall()\n",
    "mnist_datax = pd.DataFrame(d1)\n",
    "\n",
    "# -------------  TEST LABEL \"mnist_label\"\n",
    "\n",
    "mnist_label_db= sqlite3.connect('mnist_label.db')\n",
    "cursor2 = mnist_label_db.cursor()\n",
    "\n",
    "d2 = cursor2.execute(\"SELECT * FROM mnist_test_label\").fetchall()\n",
    "mnist_labely = pd.DataFrame(d2)\n",
    "\n",
    "# -----------\n",
    "# Import MLPclassifier by using pickle\n",
    "\n",
    "# loading saved pickle model\n",
    "filename = 'number_classifier.sav'\n",
    "imported_num_classifier = pickle.load(open(filename, 'rb'))\n",
    "\n",
    "\n",
    "@app.route('/')\n",
    "def home():\n",
    "    return \"MNIST Digits PredictionTool\"\n",
    "\n",
    "@app.route('/predict')\n",
    "def prediction():\n",
    "\n",
    "    num_predict_label = imported_num_classifier.predict(mnist_datax)\n",
    "    num_predict_df = pd.DataFrame(num_predict_label)\n",
    "    num_predict_json = num_predict_df.to_json()\n",
    "    \n",
    "    \n",
    "    return jsonify(num_predict_json)\n",
    "\n",
    "@app.route('/accuracy')\n",
    "def accuracy():\n",
    "    \n",
    "    num_predict_label = imported_num_classifier.predict(mnist_datax)\n",
    "    num_predict_df = pd.DataFrame(num_predict_label)\n",
    "    print(classification_report(mnist_labely, num_predict_df))\n",
    "   # accuracy = accuracy_score(mnist_labely, num_predict_df)\n",
    "    \n",
    "    #print(classification_report(mnist_label_db, num_predict_df))\n",
    "    #cm = confusion_matrix(mnist_label_db, num_predict_df, labels=imported_num_classifier.classes_)\n",
    "   # disp = ConfusionMatrixDisplay(confusion_matrix=cm,\n",
    "                        #     display_labels=imported_num_classifier.classes_)\n",
    "    #disp.plot()\n",
    "   # plt.show()\n",
    "\n",
    "\n",
    "app.run(debug=False)"
   ]
  },
  {
   "cell_type": "code",
   "execution_count": 64,
   "id": "f37ce385",
   "metadata": {},
   "outputs": [
    {
     "name": "stdout",
     "output_type": "stream",
     "text": [
      "              precision    recall  f1-score   support\n",
      "\n",
      "           0       0.94      0.97      0.96       980\n",
      "           1       0.98      0.96      0.97      1135\n",
      "           2       0.87      0.90      0.88      1032\n",
      "           3       0.86      0.72      0.79      1010\n",
      "           4       0.91      0.92      0.92       982\n",
      "           5       0.72      0.73      0.72       892\n",
      "           6       0.88      0.91      0.89       958\n",
      "           7       0.95      0.93      0.94      1028\n",
      "           8       0.80      0.86      0.83       974\n",
      "           9       0.88      0.89      0.89      1009\n",
      "\n",
      "    accuracy                           0.88     10000\n",
      "   macro avg       0.88      0.88      0.88     10000\n",
      "weighted avg       0.88      0.88      0.88     10000\n",
      "\n"
     ]
    }
   ],
   "source": [
    "\n",
    "num_predict_label = imported_num_classifier.predict(mnist_datax)\n",
    "num_predict_df = pd.DataFrame(num_predict_label)\n",
    "print(classification_report(mnist_labely, num_predict_df))"
   ]
  },
  {
   "cell_type": "code",
   "execution_count": null,
   "id": "cb9b3f1a",
   "metadata": {},
   "outputs": [],
   "source": []
  }
 ],
 "metadata": {
  "kernelspec": {
   "display_name": "Python 3",
   "language": "python",
   "name": "python3"
  },
  "language_info": {
   "codemirror_mode": {
    "name": "ipython",
    "version": 3
   },
   "file_extension": ".py",
   "mimetype": "text/x-python",
   "name": "python",
   "nbconvert_exporter": "python",
   "pygments_lexer": "ipython3",
   "version": "3.8.8"
  }
 },
 "nbformat": 4,
 "nbformat_minor": 5
}
