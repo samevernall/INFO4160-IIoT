{
 "cells": [
  {
   "cell_type": "code",
   "execution_count": 3,
   "id": "7cc15598",
   "metadata": {},
   "outputs": [],
   "source": [
    "# import needed libraries and modules\n",
    "\n",
    "import pandas as pd\n",
    "import numpy as np\n",
    "from matplotlib import pyplot as plt\n",
    "import sklearn\n",
    "\n",
    "# warning library\n",
    "import warnings\n",
    "warnings.simplefilter(\"ignore\")\n"
   ]
  },
  {
   "cell_type": "code",
   "execution_count": 4,
   "id": "582032aa",
   "metadata": {},
   "outputs": [
    {
     "name": "stdout",
     "output_type": "stream",
     "text": [
      "   label  1  2  3  4  5  6  7  8  9  ...  775  776  777  778  779  780  781  \\\n",
      "0      5  0  0  0  0  0  0  0  0  0  ...    0    0    0    0    0    0    0   \n",
      "1      0  0  0  0  0  0  0  0  0  0  ...    0    0    0    0    0    0    0   \n",
      "2      4  0  0  0  0  0  0  0  0  0  ...    0    0    0    0    0    0    0   \n",
      "3      1  0  0  0  0  0  0  0  0  0  ...    0    0    0    0    0    0    0   \n",
      "4      9  0  0  0  0  0  0  0  0  0  ...    0    0    0    0    0    0    0   \n",
      "\n",
      "   782  783  784  \n",
      "0    0    0    0  \n",
      "1    0    0    0  \n",
      "2    0    0    0  \n",
      "3    0    0    0  \n",
      "4    0    0    0  \n",
      "\n",
      "[5 rows x 785 columns]\n"
     ]
    },
    {
     "data": {
      "text/plain": [
       "(60000, 785)"
      ]
     },
     "execution_count": 4,
     "metadata": {},
     "output_type": "execute_result"
    }
   ],
   "source": [
    "# Import csv of array data for drawn numbers (0-9)\n",
    "\n",
    "images = pd.read_csv('mnist_train.csv')\n",
    "\n",
    "# Visualize data and view shape\n",
    "\n",
    "print(images.head())\n",
    "images.shape"
   ]
  },
  {
   "cell_type": "code",
   "execution_count": 5,
   "id": "8f38ed8b",
   "metadata": {},
   "outputs": [],
   "source": [
    "# splitting data fraom into x and y for train\n",
    "\n",
    "# Image data without label column (X)\n",
    "image_data_x = images.drop(columns = ['label'])\n",
    "\n",
    "# Image labels for the type of integer displayed (Y)\n",
    "image_label_y = images['label']"
   ]
  },
  {
   "cell_type": "code",
   "execution_count": 10,
   "id": "f0c8d794",
   "metadata": {},
   "outputs": [
    {
     "data": {
      "text/plain": [
       "MLPClassifier(hidden_layer_sizes=(20, 30, 20), random_state=1, solver='lbfgs')"
      ]
     },
     "execution_count": 10,
     "metadata": {},
     "output_type": "execute_result"
    }
   ],
   "source": [
    "from sklearn.neural_network import MLPClassifier\n",
    "\n",
    "# Import multi-layer perceptron and train on all image data\n",
    "\n",
    "number_classifier = MLPClassifier(solver='lbfgs', hidden_layer_sizes = (20, 30, 20), random_state=1)\n",
    "number_classifier.fit(image_data_x, image_label_y)"
   ]
  },
  {
   "cell_type": "code",
   "execution_count": 11,
   "id": "dee68fc3",
   "metadata": {},
   "outputs": [],
   "source": [
    "### Saving model as sav file\n",
    "\n",
    "import pickle\n",
    "\n",
    "filename = 'number_classifier.sav'\n",
    "pickle.dump(number_classifier, open(filename, 'wb'))\n"
   ]
  },
  {
   "cell_type": "code",
   "execution_count": 71,
   "id": "1ae18a55",
   "metadata": {
    "scrolled": true
   },
   "outputs": [
    {
     "name": "stdout",
     "output_type": "stream",
     "text": [
      "              precision    recall  f1-score   support\n",
      "\n",
      "           0       0.94      0.97      0.96       980\n",
      "           1       0.98      0.96      0.97      1135\n",
      "           2       0.87      0.90      0.88      1032\n",
      "           3       0.86      0.72      0.79      1010\n",
      "           4       0.91      0.92      0.92       982\n",
      "           5       0.72      0.73      0.72       892\n",
      "           6       0.88      0.91      0.89       958\n",
      "           7       0.95      0.93      0.94      1028\n",
      "           8       0.80      0.86      0.83       974\n",
      "           9       0.88      0.89      0.89      1009\n",
      "\n",
      "    accuracy                           0.88     10000\n",
      "   macro avg       0.88      0.88      0.88     10000\n",
      "weighted avg       0.88      0.88      0.88     10000\n",
      "\n"
     ]
    }
   ],
   "source": [
    "num_predict_label = imported_num_classifier.predict(mnist_datax)\n",
    "num_predict_df = pd.DataFrame(num_predict_label)\n",
    "clr = classification_report(mnist_labely, num_predict_df)\n",
    "print(clr)"
   ]
  },
  {
   "cell_type": "code",
   "execution_count": 77,
   "id": "21307d6e",
   "metadata": {},
   "outputs": [
    {
     "data": {
      "text/plain": [
       "str"
      ]
     },
     "execution_count": 77,
     "metadata": {},
     "output_type": "execute_result"
    }
   ],
   "source": [
    "type(clr)"
   ]
  },
  {
   "cell_type": "code",
   "execution_count": null,
   "id": "90c94a8d",
   "metadata": {},
   "outputs": [],
   "source": []
  }
 ],
 "metadata": {
  "kernelspec": {
   "display_name": "Python 3",
   "language": "python",
   "name": "python3"
  },
  "language_info": {
   "codemirror_mode": {
    "name": "ipython",
    "version": 3
   },
   "file_extension": ".py",
   "mimetype": "text/x-python",
   "name": "python",
   "nbconvert_exporter": "python",
   "pygments_lexer": "ipython3",
   "version": "3.8.8"
  }
 },
 "nbformat": 4,
 "nbformat_minor": 5
}
