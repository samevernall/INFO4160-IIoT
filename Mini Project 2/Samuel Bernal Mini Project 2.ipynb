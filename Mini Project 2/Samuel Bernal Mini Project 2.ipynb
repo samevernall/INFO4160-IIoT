{
 "cells": [
  {
   "cell_type": "code",
   "execution_count": 68,
   "id": "a62ab082",
   "metadata": {},
   "outputs": [],
   "source": [
    "# import needed libraries and modules\n",
    "\n",
    "import pandas as pd\n",
    "import numpy as np\n",
    "from matplotlib import pyplot as plt\n",
    "import sklearn\n",
    "\n",
    "# warning library\n",
    "import warnings\n",
    "warnings.simplefilter(\"ignore\")\n"
   ]
  },
  {
   "cell_type": "code",
   "execution_count": 69,
   "id": "496c9e0b",
   "metadata": {
    "scrolled": true
   },
   "outputs": [
    {
     "name": "stdout",
     "output_type": "stream",
     "text": [
      "  buy price maint price  doors passengers   boot safety evaluation\n",
      "0       low        high      4       more    big   high      vgood\n",
      "1      high         low  5more          4    med    med        acc\n",
      "2       med       vhigh      3          2    med    med      unacc\n",
      "3       low         low      2          2    med    med      unacc\n",
      "4     vhigh       vhigh  5more          2  small    low      unacc\n"
     ]
    },
    {
     "data": {
      "text/plain": [
       "(1688, 7)"
      ]
     },
     "execution_count": 69,
     "metadata": {},
     "output_type": "execute_result"
    }
   ],
   "source": [
    "# Import csv of used cars\n",
    "\n",
    "usedcar_data = pd.read_csv('used_car.csv')\n",
    "\n",
    "# Visualize data and view shape\n",
    "\n",
    "print(usedcar_data.head())\n",
    "usedcar_data.shape"
   ]
  },
  {
   "cell_type": "code",
   "execution_count": 70,
   "id": "32efcdda",
   "metadata": {},
   "outputs": [],
   "source": [
    "# split data between labels and features\n",
    "\n",
    "# feature values\n",
    "car_features = usedcar_data.drop(columns = ['evaluation'])\n",
    "\n",
    "# labels of car evaluation -- very good, acceptable, unacceptable\n",
    "car_labels = usedcar_data['evaluation']\n"
   ]
  },
  {
   "cell_type": "code",
   "execution_count": 71,
   "id": "43857273",
   "metadata": {
    "scrolled": true
   },
   "outputs": [
    {
     "data": {
      "text/html": [
       "<div>\n",
       "<style scoped>\n",
       "    .dataframe tbody tr th:only-of-type {\n",
       "        vertical-align: middle;\n",
       "    }\n",
       "\n",
       "    .dataframe tbody tr th {\n",
       "        vertical-align: top;\n",
       "    }\n",
       "\n",
       "    .dataframe thead th {\n",
       "        text-align: right;\n",
       "    }\n",
       "</style>\n",
       "<table border=\"1\" class=\"dataframe\">\n",
       "  <thead>\n",
       "    <tr style=\"text-align: right;\">\n",
       "      <th></th>\n",
       "      <th>buy price</th>\n",
       "      <th>maint price</th>\n",
       "      <th>doors</th>\n",
       "      <th>passengers</th>\n",
       "      <th>boot</th>\n",
       "      <th>safety</th>\n",
       "    </tr>\n",
       "  </thead>\n",
       "  <tbody>\n",
       "    <tr>\n",
       "      <th>0</th>\n",
       "      <td>low</td>\n",
       "      <td>high</td>\n",
       "      <td>4</td>\n",
       "      <td>more</td>\n",
       "      <td>big</td>\n",
       "      <td>high</td>\n",
       "    </tr>\n",
       "    <tr>\n",
       "      <th>1</th>\n",
       "      <td>high</td>\n",
       "      <td>low</td>\n",
       "      <td>5more</td>\n",
       "      <td>4</td>\n",
       "      <td>med</td>\n",
       "      <td>med</td>\n",
       "    </tr>\n",
       "    <tr>\n",
       "      <th>2</th>\n",
       "      <td>med</td>\n",
       "      <td>vhigh</td>\n",
       "      <td>3</td>\n",
       "      <td>2</td>\n",
       "      <td>med</td>\n",
       "      <td>med</td>\n",
       "    </tr>\n",
       "    <tr>\n",
       "      <th>3</th>\n",
       "      <td>low</td>\n",
       "      <td>low</td>\n",
       "      <td>2</td>\n",
       "      <td>2</td>\n",
       "      <td>med</td>\n",
       "      <td>med</td>\n",
       "    </tr>\n",
       "    <tr>\n",
       "      <th>4</th>\n",
       "      <td>vhigh</td>\n",
       "      <td>vhigh</td>\n",
       "      <td>5more</td>\n",
       "      <td>2</td>\n",
       "      <td>small</td>\n",
       "      <td>low</td>\n",
       "    </tr>\n",
       "  </tbody>\n",
       "</table>\n",
       "</div>"
      ],
      "text/plain": [
       "  buy price maint price  doors passengers   boot safety\n",
       "0       low        high      4       more    big   high\n",
       "1      high         low  5more          4    med    med\n",
       "2       med       vhigh      3          2    med    med\n",
       "3       low         low      2          2    med    med\n",
       "4     vhigh       vhigh  5more          2  small    low"
      ]
     },
     "execution_count": 71,
     "metadata": {},
     "output_type": "execute_result"
    }
   ],
   "source": [
    "car_features.head()"
   ]
  },
  {
   "cell_type": "code",
   "execution_count": 75,
   "id": "af3c3a61",
   "metadata": {
    "scrolled": false
   },
   "outputs": [
    {
     "name": "stdout",
     "output_type": "stream",
     "text": [
      "(1688, 21)\n"
     ]
    },
    {
     "data": {
      "text/html": [
       "<div>\n",
       "<style scoped>\n",
       "    .dataframe tbody tr th:only-of-type {\n",
       "        vertical-align: middle;\n",
       "    }\n",
       "\n",
       "    .dataframe tbody tr th {\n",
       "        vertical-align: top;\n",
       "    }\n",
       "\n",
       "    .dataframe thead th {\n",
       "        text-align: right;\n",
       "    }\n",
       "</style>\n",
       "<table border=\"1\" class=\"dataframe\">\n",
       "  <thead>\n",
       "    <tr style=\"text-align: right;\">\n",
       "      <th></th>\n",
       "      <th>buy price_high</th>\n",
       "      <th>buy price_low</th>\n",
       "      <th>buy price_med</th>\n",
       "      <th>buy price_vhigh</th>\n",
       "      <th>maint price_high</th>\n",
       "      <th>maint price_low</th>\n",
       "      <th>maint price_med</th>\n",
       "      <th>maint price_vhigh</th>\n",
       "      <th>doors_2</th>\n",
       "      <th>doors_3</th>\n",
       "      <th>...</th>\n",
       "      <th>doors_5more</th>\n",
       "      <th>passengers_2</th>\n",
       "      <th>passengers_4</th>\n",
       "      <th>passengers_more</th>\n",
       "      <th>boot_big</th>\n",
       "      <th>boot_med</th>\n",
       "      <th>boot_small</th>\n",
       "      <th>safety_high</th>\n",
       "      <th>safety_low</th>\n",
       "      <th>safety_med</th>\n",
       "    </tr>\n",
       "  </thead>\n",
       "  <tbody>\n",
       "    <tr>\n",
       "      <th>0</th>\n",
       "      <td>0</td>\n",
       "      <td>1</td>\n",
       "      <td>0</td>\n",
       "      <td>0</td>\n",
       "      <td>1</td>\n",
       "      <td>0</td>\n",
       "      <td>0</td>\n",
       "      <td>0</td>\n",
       "      <td>0</td>\n",
       "      <td>0</td>\n",
       "      <td>...</td>\n",
       "      <td>0</td>\n",
       "      <td>0</td>\n",
       "      <td>0</td>\n",
       "      <td>1</td>\n",
       "      <td>1</td>\n",
       "      <td>0</td>\n",
       "      <td>0</td>\n",
       "      <td>1</td>\n",
       "      <td>0</td>\n",
       "      <td>0</td>\n",
       "    </tr>\n",
       "    <tr>\n",
       "      <th>1</th>\n",
       "      <td>1</td>\n",
       "      <td>0</td>\n",
       "      <td>0</td>\n",
       "      <td>0</td>\n",
       "      <td>0</td>\n",
       "      <td>1</td>\n",
       "      <td>0</td>\n",
       "      <td>0</td>\n",
       "      <td>0</td>\n",
       "      <td>0</td>\n",
       "      <td>...</td>\n",
       "      <td>1</td>\n",
       "      <td>0</td>\n",
       "      <td>1</td>\n",
       "      <td>0</td>\n",
       "      <td>0</td>\n",
       "      <td>1</td>\n",
       "      <td>0</td>\n",
       "      <td>0</td>\n",
       "      <td>0</td>\n",
       "      <td>1</td>\n",
       "    </tr>\n",
       "    <tr>\n",
       "      <th>2</th>\n",
       "      <td>0</td>\n",
       "      <td>0</td>\n",
       "      <td>1</td>\n",
       "      <td>0</td>\n",
       "      <td>0</td>\n",
       "      <td>0</td>\n",
       "      <td>0</td>\n",
       "      <td>1</td>\n",
       "      <td>0</td>\n",
       "      <td>1</td>\n",
       "      <td>...</td>\n",
       "      <td>0</td>\n",
       "      <td>1</td>\n",
       "      <td>0</td>\n",
       "      <td>0</td>\n",
       "      <td>0</td>\n",
       "      <td>1</td>\n",
       "      <td>0</td>\n",
       "      <td>0</td>\n",
       "      <td>0</td>\n",
       "      <td>1</td>\n",
       "    </tr>\n",
       "    <tr>\n",
       "      <th>3</th>\n",
       "      <td>0</td>\n",
       "      <td>1</td>\n",
       "      <td>0</td>\n",
       "      <td>0</td>\n",
       "      <td>0</td>\n",
       "      <td>1</td>\n",
       "      <td>0</td>\n",
       "      <td>0</td>\n",
       "      <td>1</td>\n",
       "      <td>0</td>\n",
       "      <td>...</td>\n",
       "      <td>0</td>\n",
       "      <td>1</td>\n",
       "      <td>0</td>\n",
       "      <td>0</td>\n",
       "      <td>0</td>\n",
       "      <td>1</td>\n",
       "      <td>0</td>\n",
       "      <td>0</td>\n",
       "      <td>0</td>\n",
       "      <td>1</td>\n",
       "    </tr>\n",
       "    <tr>\n",
       "      <th>4</th>\n",
       "      <td>0</td>\n",
       "      <td>0</td>\n",
       "      <td>0</td>\n",
       "      <td>1</td>\n",
       "      <td>0</td>\n",
       "      <td>0</td>\n",
       "      <td>0</td>\n",
       "      <td>1</td>\n",
       "      <td>0</td>\n",
       "      <td>0</td>\n",
       "      <td>...</td>\n",
       "      <td>1</td>\n",
       "      <td>1</td>\n",
       "      <td>0</td>\n",
       "      <td>0</td>\n",
       "      <td>0</td>\n",
       "      <td>0</td>\n",
       "      <td>1</td>\n",
       "      <td>0</td>\n",
       "      <td>1</td>\n",
       "      <td>0</td>\n",
       "    </tr>\n",
       "  </tbody>\n",
       "</table>\n",
       "<p>5 rows × 21 columns</p>\n",
       "</div>"
      ],
      "text/plain": [
       "   buy price_high  buy price_low  buy price_med  buy price_vhigh  \\\n",
       "0               0              1              0                0   \n",
       "1               1              0              0                0   \n",
       "2               0              0              1                0   \n",
       "3               0              1              0                0   \n",
       "4               0              0              0                1   \n",
       "\n",
       "   maint price_high  maint price_low  maint price_med  maint price_vhigh  \\\n",
       "0                 1                0                0                  0   \n",
       "1                 0                1                0                  0   \n",
       "2                 0                0                0                  1   \n",
       "3                 0                1                0                  0   \n",
       "4                 0                0                0                  1   \n",
       "\n",
       "   doors_2  doors_3  ...  doors_5more  passengers_2  passengers_4  \\\n",
       "0        0        0  ...            0             0             0   \n",
       "1        0        0  ...            1             0             1   \n",
       "2        0        1  ...            0             1             0   \n",
       "3        1        0  ...            0             1             0   \n",
       "4        0        0  ...            1             1             0   \n",
       "\n",
       "   passengers_more  boot_big  boot_med  boot_small  safety_high  safety_low  \\\n",
       "0                1         1         0           0            1           0   \n",
       "1                0         0         1           0            0           0   \n",
       "2                0         0         1           0            0           0   \n",
       "3                0         0         1           0            0           0   \n",
       "4                0         0         0           1            0           1   \n",
       "\n",
       "   safety_med  \n",
       "0           0  \n",
       "1           1  \n",
       "2           1  \n",
       "3           1  \n",
       "4           0  \n",
       "\n",
       "[5 rows x 21 columns]"
      ]
     },
     "execution_count": 75,
     "metadata": {},
     "output_type": "execute_result"
    }
   ],
   "source": [
    "# Since the features have qualitative data, we will use get dummies to convert information to numerical data\n",
    "\n",
    "car_features_edit = pd.get_dummies(car_features)\n",
    "print(car_features_edit.shape)\n",
    "car_features_edit.head()"
   ]
  },
  {
   "cell_type": "code",
   "execution_count": 17,
   "id": "57b0fa87",
   "metadata": {},
   "outputs": [
    {
     "name": "stdout",
     "output_type": "stream",
     "text": [
      "buy price_high\n",
      "buy price_low\n",
      "buy price_med\n",
      "buy price_vhigh\n",
      "maint price_high\n",
      "maint price_low\n",
      "maint price_med\n",
      "maint price_vhigh\n",
      "doors_2\n",
      "doors_3\n",
      "doors_4\n",
      "doors_5more\n",
      "passengers_2\n",
      "passengers_4\n",
      "passengers_more\n",
      "boot_big\n",
      "boot_med\n",
      "boot_small\n",
      "safety_high\n",
      "safety_low\n",
      "safety_med\n"
     ]
    }
   ],
   "source": [
    "# checking column names\n",
    "for col in car_features_edit.columns:\n",
    "    print(col)"
   ]
  },
  {
   "cell_type": "code",
   "execution_count": 18,
   "id": "ee4ac9d1",
   "metadata": {},
   "outputs": [
    {
     "data": {
      "text/plain": [
       "(1688, 21)"
      ]
     },
     "execution_count": 18,
     "metadata": {},
     "output_type": "execute_result"
    }
   ],
   "source": [
    "car_features_edit.shape"
   ]
  },
  {
   "cell_type": "code",
   "execution_count": 19,
   "id": "ff0fadd3",
   "metadata": {
    "scrolled": true
   },
   "outputs": [
    {
     "data": {
      "text/plain": [
       "unacc    1182\n",
       "acc       375\n",
       "good       68\n",
       "vgood      63\n",
       "Name: evaluation, dtype: int64"
      ]
     },
     "execution_count": 19,
     "metadata": {},
     "output_type": "execute_result"
    }
   ],
   "source": [
    "car_labels.value_counts()"
   ]
  },
  {
   "cell_type": "code",
   "execution_count": 20,
   "id": "5893d21b",
   "metadata": {},
   "outputs": [],
   "source": [
    "# The above labels show that the dataset is imbalanced so we will have to use oversampling to balance the data\n",
    "\n",
    "import imblearn\n",
    "from imblearn.over_sampling import SMOTE\n",
    "\n",
    "oversample = SMOTE()\n",
    "OS_carfeature, OS_carlabels = oversample.fit_resample(car_features_edit, car_labels)"
   ]
  },
  {
   "cell_type": "code",
   "execution_count": 21,
   "id": "e9d71375",
   "metadata": {
    "scrolled": true
   },
   "outputs": [
    {
     "data": {
      "text/plain": [
       "(4728, 21)"
      ]
     },
     "execution_count": 21,
     "metadata": {},
     "output_type": "execute_result"
    }
   ],
   "source": [
    "OS_carfeature.shape"
   ]
  },
  {
   "cell_type": "code",
   "execution_count": 22,
   "id": "61704f05",
   "metadata": {},
   "outputs": [
    {
     "data": {
      "text/plain": [
       "good     1182\n",
       "unacc    1182\n",
       "acc      1182\n",
       "vgood    1182\n",
       "Name: evaluation, dtype: int64"
      ]
     },
     "execution_count": 22,
     "metadata": {},
     "output_type": "execute_result"
    }
   ],
   "source": [
    "# now the dataset is balanced for better testing\n",
    "\n",
    "OS_carlabels.value_counts()"
   ]
  },
  {
   "cell_type": "code",
   "execution_count": 23,
   "id": "de6f5b75",
   "metadata": {},
   "outputs": [
    {
     "name": "stdout",
     "output_type": "stream",
     "text": [
      "(4018, 21) (710, 21) (4018,) (710,)\n"
     ]
    }
   ],
   "source": [
    "# Now we will split into train test split\n",
    "\n",
    "from sklearn.model_selection import train_test_split\n",
    "from sklearn.ensemble import RandomForestClassifier\n",
    "\n",
    "x_train, x_test, y_train, y_test = train_test_split(OS_carfeature, OS_carlabels, random_state=1, test_size = 0.15)\n",
    "\n",
    "print(x_train.shape, x_test.shape, y_train.shape, y_test.shape)\n"
   ]
  },
  {
   "cell_type": "code",
   "execution_count": 24,
   "id": "1b9ff926",
   "metadata": {},
   "outputs": [
    {
     "data": {
      "text/plain": [
       "RandomForestClassifier()"
      ]
     },
     "execution_count": 24,
     "metadata": {},
     "output_type": "execute_result"
    }
   ],
   "source": [
    "# Now we build the random forest classifier for eval\n",
    "\n",
    "car_eval = RandomForestClassifier()\n",
    "car_eval.fit(x_train,y_train)"
   ]
  },
  {
   "cell_type": "code",
   "execution_count": 25,
   "id": "ec0fa5bf",
   "metadata": {},
   "outputs": [
    {
     "name": "stdout",
     "output_type": "stream",
     "text": [
      "              precision    recall  f1-score   support\n",
      "\n",
      "         acc       0.96      1.00      0.98       189\n",
      "        good       1.00      1.00      1.00       179\n",
      "       unacc       1.00      0.96      0.98       174\n",
      "       vgood       1.00      1.00      1.00       168\n",
      "\n",
      "    accuracy                           0.99       710\n",
      "   macro avg       0.99      0.99      0.99       710\n",
      "weighted avg       0.99      0.99      0.99       710\n",
      "\n"
     ]
    },
    {
     "data": {
      "image/png": "[encoded data removed]",
      "text/plain": [
       "<Figure size 432x288 with 2 Axes>"
      ]
     },
     "metadata": {
      "needs_background": "light"
     },
     "output_type": "display_data"
    }
   ],
   "source": [
    "# run tests\n",
    "y_predict = car_eval.predict(x_test)\n",
    "\n",
    "# Evaluating using sci-kit classification report\n",
    "from sklearn.metrics import classification_report, confusion_matrix\n",
    "from sklearn.metrics import ConfusionMatrixDisplay\n",
    "\n",
    "print(classification_report(y_test, y_predict))\n",
    "\n",
    "cm = confusion_matrix(y_test, y_predict, labels=car_eval.classes_)\n",
    "disp = ConfusionMatrixDisplay(confusion_matrix=cm,\n",
    "                             display_labels=car_eval.classes_)\n",
    "disp.plot()\n",
    "plt.show()"
   ]
  },
  {
   "cell_type": "code",
   "execution_count": 26,
   "id": "a7c7ee61",
   "metadata": {},
   "outputs": [],
   "source": [
    "#creating learning curves for model\n",
    "\n",
    "from sklearn.model_selection import learning_curve\n",
    "from sklearn.model_selection import ShuffleSplit"
   ]
  },
  {
   "cell_type": "code",
   "execution_count": 27,
   "id": "408a92f0",
   "metadata": {},
   "outputs": [
    {
     "name": "stdout",
     "output_type": "stream",
     "text": [
      "[665, 1330, 1995, 2660, 3325, 3990]\n"
     ]
    }
   ],
   "source": [
    "# Define samples size steps\n",
    "\n",
    "train_sizes = [665,1330,1995,2660,3325,3990]\n",
    "#split_data = ShuffleSplit(n_splits=5, test_size=.15, random_state=0)\n",
    "#train_sizes = split_data.get_n_splits(x)\n",
    "print(train_sizes)"
   ]
  },
  {
   "cell_type": "code",
   "execution_count": 28,
   "id": "089b8cbe",
   "metadata": {},
   "outputs": [],
   "source": [
    "train_sizes, train_scores, validation_scores = learning_curve(\n",
    "estimator = car_eval,X=OS_carfeature,y=OS_carlabels, \n",
    "train_sizes = train_sizes, cv = 25,scoring='accuracy') "
   ]
  },
  {
   "cell_type": "code",
   "execution_count": 29,
   "id": "57d6e2fe",
   "metadata": {},
   "outputs": [
    {
     "name": "stdout",
     "output_type": "stream",
     "text": [
      "Training scores:\n",
      "\n",
      " [[1. 1. 1. 1. 1. 1. 1. 1. 1. 1. 1. 1. 1. 1. 1. 1. 1. 1. 1. 1. 1. 1. 1. 1.\n",
      "  1.]\n",
      " [1. 1. 1. 1. 1. 1. 1. 1. 1. 1. 1. 1. 1. 1. 1. 1. 1. 1. 1. 1. 1. 1. 1. 1.\n",
      "  1.]\n",
      " [1. 1. 1. 1. 1. 1. 1. 1. 1. 1. 1. 1. 1. 1. 1. 1. 1. 1. 1. 1. 1. 1. 1. 1.\n",
      "  1.]\n",
      " [1. 1. 1. 1. 1. 1. 1. 1. 1. 1. 1. 1. 1. 1. 1. 1. 1. 1. 1. 1. 1. 1. 1. 1.\n",
      "  1.]\n",
      " [1. 1. 1. 1. 1. 1. 1. 1. 1. 1. 1. 1. 1. 1. 1. 1. 1. 1. 1. 1. 1. 1. 1. 1.\n",
      "  1.]\n",
      " [1. 1. 1. 1. 1. 1. 1. 1. 1. 1. 1. 1. 1. 1. 1. 1. 1. 1. 1. 1. 1. 1. 1. 1.\n",
      "  1.]]\n",
      "\n",
      " ----------------------------------------------------------------------\n",
      "\n",
      "Validation scores:\n",
      "\n",
      " [[0.48947368 0.86315789 0.87368421 0.82539683 0.81481481 0.83068783\n",
      "  0.83068783 0.83597884 0.86243386 0.84126984 0.84656085 0.86243386\n",
      "  0.84126984 0.84656085 0.86772487 0.82010582 0.83597884 0.81481481\n",
      "  0.82539683 0.87301587 0.86772487 0.87301587 0.85714286 0.86243386\n",
      "  0.78835979]\n",
      " [0.54736842 0.94210526 0.94736842 0.96825397 0.96296296 0.98412698\n",
      "  0.97883598 0.98412698 0.98941799 0.96825397 0.99470899 0.97883598\n",
      "  0.98941799 0.97354497 0.98412698 0.96296296 0.97354497 0.99470899\n",
      "  0.97354497 0.97354497 0.97354497 0.96825397 0.96825397 1.\n",
      "  0.96825397]\n",
      " [0.63684211 0.92631579 0.98421053 0.97883598 0.99470899 0.96825397\n",
      "  0.98941799 0.97883598 1.         0.98412698 0.99470899 0.98941799\n",
      "  1.         0.99470899 0.97354497 0.97354497 0.99470899 0.98941799\n",
      "  0.99470899 0.97354497 0.97883598 0.99470899 0.97354497 0.98412698\n",
      "  0.98412698]\n",
      " [0.79473684 0.95789474 0.96842105 0.99470899 0.98412698 0.98412698\n",
      "  0.98941799 0.98941799 1.         0.98412698 0.99470899 0.98412698\n",
      "  0.99470899 0.98941799 0.98941799 0.97883598 0.98412698 1.\n",
      "  0.98941799 0.97354497 0.99470899 0.98941799 0.98941799 1.\n",
      "  1.        ]\n",
      " [0.76842105 0.94736842 0.95263158 0.99470899 0.98412698 0.97354497\n",
      "  0.98941799 0.98412698 0.97354497 0.96825397 0.97354497 0.95767196\n",
      "  0.98412698 0.98941799 0.96825397 0.97354497 0.97883598 0.98941799\n",
      "  0.97883598 0.94179894 1.         0.96296296 0.98941799 0.96296296\n",
      "  0.97883598]\n",
      " [0.98947368 0.99473684 0.96842105 0.99470899 0.98941799 0.98941799\n",
      "  0.99470899 0.98941799 1.         0.98412698 1.         0.98412698\n",
      "  0.99470899 0.99470899 0.99470899 0.98412698 0.98941799 1.\n",
      "  0.99470899 0.97354497 0.99470899 0.99470899 0.98941799 0.99470899\n",
      "  1.        ]]\n"
     ]
    }
   ],
   "source": [
    "# Cross validation based training and test scores \n",
    "\n",
    "print('Training scores:\\n\\n', train_scores)\n",
    "print('\\n', '-' * 70) # separator to make the output easy to read\n",
    "print('\\nValidation scores:\\n\\n', validation_scores)"
   ]
  },
  {
   "cell_type": "code",
   "execution_count": 30,
   "id": "65e38524",
   "metadata": {},
   "outputs": [
    {
     "name": "stdout",
     "output_type": "stream",
     "text": [
      "Mean training scores\n",
      "\n",
      " 665     1.0\n",
      "1330    1.0\n",
      "1995    1.0\n",
      "2660    1.0\n",
      "3325    1.0\n",
      "3990    1.0\n",
      "dtype: float64\n",
      "\n",
      " --------------------\n",
      "\n",
      "Mean validation scores\n",
      "\n",
      " 665     0.830005\n",
      "1330    0.958003\n",
      "1995    0.969408\n",
      "2660    0.979953\n",
      "3325    0.966631\n",
      "3990    0.991121\n",
      "dtype: float64\n"
     ]
    }
   ],
   "source": [
    "# Calculate mean values of scores to plot\n",
    "train_scores_mean = train_scores.mean(axis = 1)\n",
    "train_scores_std = np.std(train_scores, axis=1)\n",
    "validation_scores_mean = validation_scores.mean(axis = 1)\n",
    "validation_scores_std = np.std(validation_scores, axis=1)\n",
    "print('Mean training scores\\n\\n', pd.Series(train_scores_mean, index = train_sizes))\n",
    "print('\\n', '-' * 20) # separator\n",
    "print('\\nMean validation scores\\n\\n',pd.Series(validation_scores_mean, index = train_sizes))"
   ]
  },
  {
   "cell_type": "code",
   "execution_count": 31,
   "id": "749402ea",
   "metadata": {},
   "outputs": [
    {
     "data": {
      "image/png": "[encoded data removed]",
      "text/plain": [
       "<Figure size 576x396 with 1 Axes>"
      ]
     },
     "metadata": {},
     "output_type": "display_data"
    }
   ],
   "source": [
    "plt.style.use('seaborn')\n",
    "plt.fill_between(train_sizes, train_scores_mean - train_scores_std,\n",
    "                     train_scores_mean + train_scores_std, alpha=0.1,\n",
    "                     color=\"r\")\n",
    "plt.fill_between(train_sizes, validation_scores_mean - validation_scores_std,\n",
    "                     validation_scores_mean + validation_scores_std, alpha=0.1, color=\"g\")\n",
    "plt.plot(train_sizes, train_scores_mean, label = 'Training accuracy')\n",
    "plt.plot(train_sizes, validation_scores_mean, label = 'Validation accuracy')\n",
    "plt.ylabel('Accuracy', fontsize = 14)\n",
    "plt.xlabel('Training set size', fontsize = 14)\n",
    "plt.title('Learning curves for a CarEval Random Forest Classifier', fontsize = 18, y = 1.03)\n",
    "plt.legend()\n",
    "plt.ylim(0.1,1.0)\n",
    "plt.show()"
   ]
  },
  {
   "cell_type": "code",
   "execution_count": 32,
   "id": "b03f2f7b",
   "metadata": {},
   "outputs": [],
   "source": [
    "### Saving model as sav file\n",
    "\n",
    "import pickle\n",
    "\n",
    "filename = 'car_eval.sav'\n",
    "pickle.dump(car_eval, open(filename, 'wb'))\n",
    "\n"
   ]
  },
  {
   "cell_type": "code",
   "execution_count": 154,
   "id": "449be49a",
   "metadata": {},
   "outputs": [
    {
     "data": {
      "text/plain": [
       "array([[0., 0., 0., 0., 0., 0., 0., 0., 0., 0., 0., 0., 0., 0., 0., 0.,\n",
       "        0., 0., 0., 0., 0.]])"
      ]
     },
     "execution_count": 154,
     "metadata": {},
     "output_type": "execute_result"
    }
   ],
   "source": [
    "# Here I am making a blank feature input dataframe that can be instantiated in Flask\n",
    "\n",
    "# below I make an array of zeros to instantiate the values in the dataframe\n",
    "\n",
    "zeros = np.zeros((1,21))\n",
    "zeros\n"
   ]
  },
  {
   "cell_type": "code",
   "execution_count": 187,
   "id": "67432a90",
   "metadata": {},
   "outputs": [
    {
     "data": {
      "text/html": [
       "<div>\n",
       "<style scoped>\n",
       "    .dataframe tbody tr th:only-of-type {\n",
       "        vertical-align: middle;\n",
       "    }\n",
       "\n",
       "    .dataframe tbody tr th {\n",
       "        vertical-align: top;\n",
       "    }\n",
       "\n",
       "    .dataframe thead th {\n",
       "        text-align: right;\n",
       "    }\n",
       "</style>\n",
       "<table border=\"1\" class=\"dataframe\">\n",
       "  <thead>\n",
       "    <tr style=\"text-align: right;\">\n",
       "      <th></th>\n",
       "      <th>buy price_high</th>\n",
       "      <th>buy price_low</th>\n",
       "      <th>buy price_med</th>\n",
       "      <th>buy price_vhigh</th>\n",
       "      <th>maint price_high</th>\n",
       "      <th>maint price_low</th>\n",
       "      <th>maint price_med</th>\n",
       "      <th>maint price_vhigh</th>\n",
       "      <th>doors_2</th>\n",
       "      <th>doors_3</th>\n",
       "      <th>...</th>\n",
       "      <th>doors_5more</th>\n",
       "      <th>passengers_2</th>\n",
       "      <th>passengers_4</th>\n",
       "      <th>passengers_more</th>\n",
       "      <th>boot_big</th>\n",
       "      <th>boot_med</th>\n",
       "      <th>boot_small</th>\n",
       "      <th>safety_high</th>\n",
       "      <th>safety_low</th>\n",
       "      <th>safety_med</th>\n",
       "    </tr>\n",
       "  </thead>\n",
       "  <tbody>\n",
       "    <tr>\n",
       "      <th>0</th>\n",
       "      <td>0.0</td>\n",
       "      <td>0.0</td>\n",
       "      <td>0.0</td>\n",
       "      <td>0.0</td>\n",
       "      <td>0.0</td>\n",
       "      <td>0.0</td>\n",
       "      <td>0.0</td>\n",
       "      <td>0.0</td>\n",
       "      <td>0.0</td>\n",
       "      <td>0.0</td>\n",
       "      <td>...</td>\n",
       "      <td>0.0</td>\n",
       "      <td>0.0</td>\n",
       "      <td>0.0</td>\n",
       "      <td>0.0</td>\n",
       "      <td>0.0</td>\n",
       "      <td>0.0</td>\n",
       "      <td>0.0</td>\n",
       "      <td>0.0</td>\n",
       "      <td>0.0</td>\n",
       "      <td>0.0</td>\n",
       "    </tr>\n",
       "  </tbody>\n",
       "</table>\n",
       "<p>1 rows × 21 columns</p>\n",
       "</div>"
      ],
      "text/plain": [
       "   buy price_high  buy price_low  buy price_med  buy price_vhigh  \\\n",
       "0             0.0            0.0            0.0              0.0   \n",
       "\n",
       "   maint price_high  maint price_low  maint price_med  maint price_vhigh  \\\n",
       "0               0.0              0.0              0.0                0.0   \n",
       "\n",
       "   doors_2  doors_3  ...  doors_5more  passengers_2  passengers_4  \\\n",
       "0      0.0      0.0  ...          0.0           0.0           0.0   \n",
       "\n",
       "   passengers_more  boot_big  boot_med  boot_small  safety_high  safety_low  \\\n",
       "0              0.0       0.0       0.0         0.0          0.0         0.0   \n",
       "\n",
       "   safety_med  \n",
       "0         0.0  \n",
       "\n",
       "[1 rows x 21 columns]"
      ]
     },
     "execution_count": 187,
     "metadata": {},
     "output_type": "execute_result"
    }
   ],
   "source": [
    "# below I create a dataframe with the same column titles as the get dummies df\n",
    "\n",
    "carfeature_index = car_features_edit.columns\n",
    "\n",
    "feature_inputdf = pd.DataFrame(data = zeros, columns = carfeature_index)\n",
    "feature_inputdf.head()\n"
   ]
  },
  {
   "cell_type": "code",
   "execution_count": null,
   "id": "61e4950a",
   "metadata": {},
   "outputs": [],
   "source": []
  },
  {
   "cell_type": "code",
   "execution_count": 188,
   "id": "394fe49c",
   "metadata": {},
   "outputs": [],
   "source": [
    "# now to save dataframe for the flask app\n",
    "\n",
    "feature_inputdf.to_csv('carfeature_input.csv')"
   ]
  },
  {
   "cell_type": "markdown",
   "id": "f150f944",
   "metadata": {},
   "source": [
    "# Extra Work\n",
    "\n",
    "Everything below is just extra work that I have done to ensure that the python code would work properly on the Flask App\n",
    "\n",
    "----------------\n",
    "---------------\n",
    "--------------\n",
    "----------------\n",
    "---------------\n",
    "--------------"
   ]
  },
  {
   "cell_type": "code",
   "execution_count": 92,
   "id": "33f14894",
   "metadata": {},
   "outputs": [
    {
     "data": {
      "text/plain": [
       "pandas.core.indexes.base.Index"
      ]
     },
     "execution_count": 92,
     "metadata": {},
     "output_type": "execute_result"
    }
   ],
   "source": [
    "type(carfeature_index)"
   ]
  },
  {
   "cell_type": "code",
   "execution_count": 163,
   "id": "421cef17",
   "metadata": {},
   "outputs": [
    {
     "data": {
      "text/html": [
       "<div>\n",
       "<style scoped>\n",
       "    .dataframe tbody tr th:only-of-type {\n",
       "        vertical-align: middle;\n",
       "    }\n",
       "\n",
       "    .dataframe tbody tr th {\n",
       "        vertical-align: top;\n",
       "    }\n",
       "\n",
       "    .dataframe thead th {\n",
       "        text-align: right;\n",
       "    }\n",
       "</style>\n",
       "<table border=\"1\" class=\"dataframe\">\n",
       "  <thead>\n",
       "    <tr style=\"text-align: right;\">\n",
       "      <th></th>\n",
       "      <th>buy price</th>\n",
       "      <th>maint price</th>\n",
       "      <th>doors</th>\n",
       "      <th>passengers</th>\n",
       "      <th>boot</th>\n",
       "      <th>safety</th>\n",
       "    </tr>\n",
       "  </thead>\n",
       "  <tbody>\n",
       "    <tr>\n",
       "      <th>0</th>\n",
       "      <td>vhigh</td>\n",
       "      <td>high</td>\n",
       "      <td>2</td>\n",
       "      <td>2</td>\n",
       "      <td>small</td>\n",
       "      <td>low</td>\n",
       "    </tr>\n",
       "  </tbody>\n",
       "</table>\n",
       "</div>"
      ],
      "text/plain": [
       "  buy price maint price  doors  passengers   boot safety\n",
       "0     vhigh        high      2           2  small    low"
      ]
     },
     "execution_count": 163,
     "metadata": {},
     "output_type": "execute_result"
    }
   ],
   "source": [
    "buy_price = 'vhigh'\n",
    "maint_price = 'high'\n",
    "doors = 2\n",
    "passengers = 2\n",
    "boot = 'small'\n",
    "safety = 'low'\n",
    "\n",
    "column_data = [buy_price, maint_price, doors, passengers, boot, safety]\n",
    "column_names = ['buy price', 'maint price', 'doors', 'passengers', 'boot', 'safety'] \n",
    "\n",
    "raw_input = pd.DataFrame(data = [column_data], \n",
    "                         columns = column_names)\n",
    "raw_input.head()"
   ]
  },
  {
   "cell_type": "code",
   "execution_count": 164,
   "id": "da8ffe51",
   "metadata": {},
   "outputs": [
    {
     "data": {
      "text/plain": [
       "list"
      ]
     },
     "execution_count": 164,
     "metadata": {},
     "output_type": "execute_result"
    }
   ],
   "source": [
    "type(column_names)"
   ]
  },
  {
   "cell_type": "code",
   "execution_count": 165,
   "id": "a420c7e0",
   "metadata": {},
   "outputs": [
    {
     "data": {
      "text/html": [
       "<div>\n",
       "<style scoped>\n",
       "    .dataframe tbody tr th:only-of-type {\n",
       "        vertical-align: middle;\n",
       "    }\n",
       "\n",
       "    .dataframe tbody tr th {\n",
       "        vertical-align: top;\n",
       "    }\n",
       "\n",
       "    .dataframe thead th {\n",
       "        text-align: right;\n",
       "    }\n",
       "</style>\n",
       "<table border=\"1\" class=\"dataframe\">\n",
       "  <thead>\n",
       "    <tr style=\"text-align: right;\">\n",
       "      <th></th>\n",
       "      <th>buy price_vhigh</th>\n",
       "      <th>maint price_high</th>\n",
       "      <th>doors_2</th>\n",
       "      <th>passengers_2</th>\n",
       "      <th>boot_small</th>\n",
       "      <th>safety_low</th>\n",
       "    </tr>\n",
       "  </thead>\n",
       "  <tbody>\n",
       "    <tr>\n",
       "      <th>0</th>\n",
       "      <td>1</td>\n",
       "      <td>1</td>\n",
       "      <td>1</td>\n",
       "      <td>1</td>\n",
       "      <td>1</td>\n",
       "      <td>1</td>\n",
       "    </tr>\n",
       "  </tbody>\n",
       "</table>\n",
       "</div>"
      ],
      "text/plain": [
       "   buy price_vhigh  maint price_high  doors_2  passengers_2  boot_small  \\\n",
       "0                1                 1        1             1           1   \n",
       "\n",
       "   safety_low  \n",
       "0           1  "
      ]
     },
     "execution_count": 165,
     "metadata": {},
     "output_type": "execute_result"
    }
   ],
   "source": [
    "proper_labels = pd.get_dummies(data = raw_input, columns = column_names)\n",
    "proper_labels.head()"
   ]
  },
  {
   "cell_type": "code",
   "execution_count": 166,
   "id": "bbaff597",
   "metadata": {
    "scrolled": false
   },
   "outputs": [
    {
     "data": {
      "text/plain": [
       "['buy price_vhigh',\n",
       " 'maint price_high',\n",
       " 'doors_2',\n",
       " 'passengers_2',\n",
       " 'boot_small',\n",
       " 'safety_low']"
      ]
     },
     "execution_count": 166,
     "metadata": {},
     "output_type": "execute_result"
    }
   ],
   "source": [
    "features_list = list(proper_labels.columns.values)\n",
    "features_list"
   ]
  },
  {
   "cell_type": "markdown",
   "id": "e2805efd",
   "metadata": {},
   "source": [
    "# -------"
   ]
  },
  {
   "cell_type": "code",
   "execution_count": 112,
   "id": "8f42a8f8",
   "metadata": {
    "collapsed": true
   },
   "outputs": [
    {
     "data": {
      "text/plain": [
       "[[1, 1, 1, 1, 1, 1]]"
      ]
     },
     "execution_count": 112,
     "metadata": {},
     "output_type": "execute_result"
    }
   ],
   "source": [
    "# feature_values = proper_labels.values.tolist()\n",
    "# feature_values"
   ]
  },
  {
   "cell_type": "code",
   "execution_count": 115,
   "id": "d262e31f",
   "metadata": {
    "collapsed": true
   },
   "outputs": [
    {
     "data": {
      "text/plain": [
       "['buy price_high',\n",
       " 'buy price_low',\n",
       " 'buy price_med',\n",
       " 'buy price_vhigh',\n",
       " 'maint price_high',\n",
       " 'maint price_low',\n",
       " 'maint price_med',\n",
       " 'maint price_vhigh',\n",
       " 'doors_2',\n",
       " 'doors_3',\n",
       " 'doors_4',\n",
       " 'doors_5more',\n",
       " 'passengers_2',\n",
       " 'passengers_4',\n",
       " 'passengers_more',\n",
       " 'boot_big',\n",
       " 'boot_med',\n",
       " 'boot_small',\n",
       " 'safety_high',\n",
       " 'safety_low',\n",
       " 'safety_med']"
      ]
     },
     "execution_count": 115,
     "metadata": {},
     "output_type": "execute_result"
    }
   ],
   "source": [
    "# true_list = car_features_edit.columns.values.tolist()\n",
    "# true_list"
   ]
  },
  {
   "cell_type": "markdown",
   "id": "dc3d5f95",
   "metadata": {},
   "source": [
    "# ------"
   ]
  },
  {
   "cell_type": "code",
   "execution_count": 169,
   "id": "9491f1f0",
   "metadata": {
    "scrolled": true
   },
   "outputs": [
    {
     "data": {
      "text/html": [
       "<div>\n",
       "<style scoped>\n",
       "    .dataframe tbody tr th:only-of-type {\n",
       "        vertical-align: middle;\n",
       "    }\n",
       "\n",
       "    .dataframe tbody tr th {\n",
       "        vertical-align: top;\n",
       "    }\n",
       "\n",
       "    .dataframe thead th {\n",
       "        text-align: right;\n",
       "    }\n",
       "</style>\n",
       "<table border=\"1\" class=\"dataframe\">\n",
       "  <thead>\n",
       "    <tr style=\"text-align: right;\">\n",
       "      <th></th>\n",
       "      <th>buy price_high</th>\n",
       "      <th>buy price_low</th>\n",
       "      <th>buy price_med</th>\n",
       "      <th>buy price_vhigh</th>\n",
       "      <th>maint price_high</th>\n",
       "      <th>maint price_low</th>\n",
       "      <th>maint price_med</th>\n",
       "      <th>maint price_vhigh</th>\n",
       "      <th>doors_2</th>\n",
       "      <th>doors_3</th>\n",
       "      <th>...</th>\n",
       "      <th>doors_5more</th>\n",
       "      <th>passengers_2</th>\n",
       "      <th>passengers_4</th>\n",
       "      <th>passengers_more</th>\n",
       "      <th>boot_big</th>\n",
       "      <th>boot_med</th>\n",
       "      <th>boot_small</th>\n",
       "      <th>safety_high</th>\n",
       "      <th>safety_low</th>\n",
       "      <th>safety_med</th>\n",
       "    </tr>\n",
       "  </thead>\n",
       "  <tbody>\n",
       "    <tr>\n",
       "      <th>0</th>\n",
       "      <td>0.0</td>\n",
       "      <td>0.0</td>\n",
       "      <td>0.0</td>\n",
       "      <td>1.0</td>\n",
       "      <td>1.0</td>\n",
       "      <td>0.0</td>\n",
       "      <td>0.0</td>\n",
       "      <td>0.0</td>\n",
       "      <td>1.0</td>\n",
       "      <td>0.0</td>\n",
       "      <td>...</td>\n",
       "      <td>0.0</td>\n",
       "      <td>1.0</td>\n",
       "      <td>0.0</td>\n",
       "      <td>0.0</td>\n",
       "      <td>0.0</td>\n",
       "      <td>0.0</td>\n",
       "      <td>1.0</td>\n",
       "      <td>0.0</td>\n",
       "      <td>1.0</td>\n",
       "      <td>0.0</td>\n",
       "    </tr>\n",
       "  </tbody>\n",
       "</table>\n",
       "<p>1 rows × 21 columns</p>\n",
       "</div>"
      ],
      "text/plain": [
       "   buy price_high  buy price_low  buy price_med  buy price_vhigh  \\\n",
       "0             0.0            0.0            0.0              1.0   \n",
       "\n",
       "   maint price_high  maint price_low  maint price_med  maint price_vhigh  \\\n",
       "0               1.0              0.0              0.0                0.0   \n",
       "\n",
       "   doors_2  doors_3  ...  doors_5more  passengers_2  passengers_4  \\\n",
       "0      1.0      0.0  ...          0.0           1.0           0.0   \n",
       "\n",
       "   passengers_more  boot_big  boot_med  boot_small  safety_high  safety_low  \\\n",
       "0              0.0       0.0       0.0         1.0          0.0         1.0   \n",
       "\n",
       "   safety_med  \n",
       "0         0.0  \n",
       "\n",
       "[1 rows x 21 columns]"
      ]
     },
     "execution_count": 169,
     "metadata": {},
     "output_type": "execute_result"
    }
   ],
   "source": [
    "zeros = np.zeros((1,21))\n",
    "feature_inputdf = pd.DataFrame(data = zeros, columns = carfeature_index)\n",
    "final_input = feature_inputdf\n",
    "final_input.loc[0, features_list] = 1\n",
    "\n",
    "\n",
    "final_input"
   ]
  },
  {
   "cell_type": "code",
   "execution_count": 168,
   "id": "738e4184",
   "metadata": {},
   "outputs": [
    {
     "data": {
      "text/plain": [
       "array(['unacc'], dtype=object)"
      ]
     },
     "execution_count": 168,
     "metadata": {},
     "output_type": "execute_result"
    }
   ],
   "source": [
    "#### works!!!\n",
    "\n",
    "y_predict = car_eval.predict(final_input)\n",
    "y_predict"
   ]
  },
  {
   "cell_type": "code",
   "execution_count": 173,
   "id": "97c348d3",
   "metadata": {},
   "outputs": [
    {
     "data": {
      "text/plain": [
       "\"['unacc']\""
      ]
     },
     "execution_count": 173,
     "metadata": {},
     "output_type": "execute_result"
    }
   ],
   "source": [
    "pred = np.array2string(y_predict,precision=0)\n",
    "type(pred)\n",
    "pred"
   ]
  },
  {
   "cell_type": "code",
   "execution_count": 160,
   "id": "59fe7318",
   "metadata": {},
   "outputs": [
    {
     "data": {
      "text/html": [
       "<div>\n",
       "<style scoped>\n",
       "    .dataframe tbody tr th:only-of-type {\n",
       "        vertical-align: middle;\n",
       "    }\n",
       "\n",
       "    .dataframe tbody tr th {\n",
       "        vertical-align: top;\n",
       "    }\n",
       "\n",
       "    .dataframe thead th {\n",
       "        text-align: right;\n",
       "    }\n",
       "</style>\n",
       "<table border=\"1\" class=\"dataframe\">\n",
       "  <thead>\n",
       "    <tr style=\"text-align: right;\">\n",
       "      <th></th>\n",
       "      <th>buy price_high</th>\n",
       "      <th>buy price_low</th>\n",
       "      <th>buy price_med</th>\n",
       "      <th>buy price_vhigh</th>\n",
       "      <th>maint price_high</th>\n",
       "      <th>maint price_low</th>\n",
       "      <th>maint price_med</th>\n",
       "      <th>maint price_vhigh</th>\n",
       "      <th>doors_2</th>\n",
       "      <th>doors_3</th>\n",
       "      <th>...</th>\n",
       "      <th>doors_5more</th>\n",
       "      <th>passengers_2</th>\n",
       "      <th>passengers_4</th>\n",
       "      <th>passengers_more</th>\n",
       "      <th>boot_big</th>\n",
       "      <th>boot_med</th>\n",
       "      <th>boot_small</th>\n",
       "      <th>safety_high</th>\n",
       "      <th>safety_low</th>\n",
       "      <th>safety_med</th>\n",
       "    </tr>\n",
       "  </thead>\n",
       "  <tbody>\n",
       "    <tr>\n",
       "      <th>0</th>\n",
       "      <td>0.0</td>\n",
       "      <td>1.0</td>\n",
       "      <td>0.0</td>\n",
       "      <td>0.0</td>\n",
       "      <td>1.0</td>\n",
       "      <td>0.0</td>\n",
       "      <td>0.0</td>\n",
       "      <td>0.0</td>\n",
       "      <td>0.0</td>\n",
       "      <td>1.0</td>\n",
       "      <td>...</td>\n",
       "      <td>0.0</td>\n",
       "      <td>0.0</td>\n",
       "      <td>0.0</td>\n",
       "      <td>1.0</td>\n",
       "      <td>0.0</td>\n",
       "      <td>1.0</td>\n",
       "      <td>0.0</td>\n",
       "      <td>0.0</td>\n",
       "      <td>0.0</td>\n",
       "      <td>1.0</td>\n",
       "    </tr>\n",
       "  </tbody>\n",
       "</table>\n",
       "<p>1 rows × 21 columns</p>\n",
       "</div>"
      ],
      "text/plain": [
       "   buy price_high  buy price_low  buy price_med  buy price_vhigh  \\\n",
       "0             0.0            1.0            0.0              0.0   \n",
       "\n",
       "   maint price_high  maint price_low  maint price_med  maint price_vhigh  \\\n",
       "0               1.0              0.0              0.0                0.0   \n",
       "\n",
       "   doors_2  doors_3  ...  doors_5more  passengers_2  passengers_4  \\\n",
       "0      0.0      1.0  ...          0.0           0.0           0.0   \n",
       "\n",
       "   passengers_more  boot_big  boot_med  boot_small  safety_high  safety_low  \\\n",
       "0              1.0       0.0       1.0         0.0          0.0         0.0   \n",
       "\n",
       "   safety_med  \n",
       "0         1.0  \n",
       "\n",
       "[1 rows x 21 columns]"
      ]
     },
     "execution_count": 160,
     "metadata": {},
     "output_type": "execute_result"
    }
   ],
   "source": [
    "feature_inputdf"
   ]
  },
  {
   "cell_type": "code",
   "execution_count": 144,
   "id": "ab7e888c",
   "metadata": {},
   "outputs": [
    {
     "name": "stdout",
     "output_type": "stream",
     "text": [
      "buy price_low\n",
      "buy price_low\n",
      "1\n",
      "maint price_high\n",
      "maint price_high\n",
      "4\n",
      "doors_3\n",
      "doors_3\n",
      "9\n",
      "passengers_more\n",
      "passengers_more\n",
      "14\n",
      "boot_med\n",
      "boot_med\n",
      "16\n",
      "safety_med\n",
      "safety_med\n",
      "20\n"
     ]
    }
   ],
   "source": [
    "def cmp(a, b):\n",
    "    zeros = np.zeros((1,21))\n",
    "    \n",
    "    ### !!! Make sure df name is correct on API\n",
    "    final_input = feature_inputdf.(data = zeros, columns = carfeature_index)\n",
    "    if a == b:\n",
    "        \n",
    "        print(a)\n",
    "        print(b)\n",
    "        print(j)\n",
    "        \n",
    "\n",
    "for i in range(len(features_list)):\n",
    "    for j in range(len(true_list)):\n",
    "        cmp(features_list[i], true_list[j])\n",
    "        \n"
   ]
  },
  {
   "cell_type": "code",
   "execution_count": 135,
   "id": "128f0ff0",
   "metadata": {},
   "outputs": [
    {
     "data": {
      "text/plain": [
       "'buy price_low'"
      ]
     },
     "execution_count": 135,
     "metadata": {},
     "output_type": "execute_result"
    }
   ],
   "source": [
    "features_list[i]"
   ]
  },
  {
   "cell_type": "code",
   "execution_count": 136,
   "id": "6250b900",
   "metadata": {},
   "outputs": [
    {
     "data": {
      "text/plain": [
       "6"
      ]
     },
     "execution_count": 136,
     "metadata": {},
     "output_type": "execute_result"
    }
   ],
   "source": [
    "len(features_list)"
   ]
  },
  {
   "cell_type": "code",
   "execution_count": 146,
   "id": "6f393260",
   "metadata": {},
   "outputs": [
    {
     "data": {
      "text/html": [
       "<div>\n",
       "<style scoped>\n",
       "    .dataframe tbody tr th:only-of-type {\n",
       "        vertical-align: middle;\n",
       "    }\n",
       "\n",
       "    .dataframe tbody tr th {\n",
       "        vertical-align: top;\n",
       "    }\n",
       "\n",
       "    .dataframe thead th {\n",
       "        text-align: right;\n",
       "    }\n",
       "</style>\n",
       "<table border=\"1\" class=\"dataframe\">\n",
       "  <thead>\n",
       "    <tr style=\"text-align: right;\">\n",
       "      <th></th>\n",
       "      <th>A</th>\n",
       "      <th>B</th>\n",
       "      <th>C</th>\n",
       "    </tr>\n",
       "  </thead>\n",
       "  <tbody>\n",
       "    <tr>\n",
       "      <th>0</th>\n",
       "      <td>0</td>\n",
       "      <td>5</td>\n",
       "      <td>a</td>\n",
       "    </tr>\n",
       "    <tr>\n",
       "      <th>1</th>\n",
       "      <td>1</td>\n",
       "      <td>6</td>\n",
       "      <td>b</td>\n",
       "    </tr>\n",
       "    <tr>\n",
       "      <th>2</th>\n",
       "      <td>2</td>\n",
       "      <td>7</td>\n",
       "      <td>c</td>\n",
       "    </tr>\n",
       "    <tr>\n",
       "      <th>3</th>\n",
       "      <td>3</td>\n",
       "      <td>8</td>\n",
       "      <td>d</td>\n",
       "    </tr>\n",
       "    <tr>\n",
       "      <th>4</th>\n",
       "      <td>4</td>\n",
       "      <td>9</td>\n",
       "      <td>e</td>\n",
       "    </tr>\n",
       "  </tbody>\n",
       "</table>\n",
       "</div>"
      ],
      "text/plain": [
       "   A  B  C\n",
       "0  0  5  a\n",
       "1  1  6  b\n",
       "2  2  7  c\n",
       "3  3  8  d\n",
       "4  4  9  e"
      ]
     },
     "execution_count": 146,
     "metadata": {},
     "output_type": "execute_result"
    }
   ],
   "source": [
    "df = pd.DataFrame({'A': [0, 1, 2, 3, 4],\n",
    "                   'B': [5, 6, 7, 8, 9],\n",
    "                   'C': ['a', 'b', 'c', 'd', 'e']})\n",
    "df\n"
   ]
  },
  {
   "cell_type": "code",
   "execution_count": null,
   "id": "9ffbbf9e",
   "metadata": {},
   "outputs": [],
   "source": [
    "new = df.replace()"
   ]
  },
  {
   "cell_type": "code",
   "execution_count": null,
   "id": "e2fe6171",
   "metadata": {},
   "outputs": [],
   "source": []
  },
  {
   "cell_type": "code",
   "execution_count": null,
   "id": "f4ceea84",
   "metadata": {},
   "outputs": [],
   "source": [
    "\n",
    "buy_price = request.form.get('buy_price')\n",
    "maint_price = request.form.get('maint_price')\n",
    "doors = request.form.get('doors')\n",
    "passengers = request.form.get('passengers')\n",
    "boot = request.form.get('boot')\n",
    "safety = request.form.get('safety')\n",
    "\n",
    "column_data = [buy_price, maint_price, doors, passengers, boot, safety]\n",
    "column_names = ['buy price', 'maint price', 'doors', 'passengers', 'boot', 'safety'] \n",
    "\n",
    "# Making a dataframe with imported data from web\n",
    "raw_input = pd.DataFrame(data = [column_data], columns = column_names)\n",
    "\n",
    "# Creating get dummies column titles and making list from titles\n",
    "proper_labels = pd.get_dummies(data = raw_input, columns = column_names)\n",
    "features_list = list(proper_labels.columns.values)\n",
    "\n",
    "# Creating list of true column titles and zero data *\n",
    "# ** This is for resetting data values to zero when we run the predictive model again\n",
    "carfeature_index = carfeature_df.columns\n",
    "zeros = np.zeros((1,21))\n",
    "\n",
    "# Create dataframe for feature input\n",
    "final_input = pd.DataFrame(data = zeros, columns = carfeature_index)\n",
    "# Set values to 1 where features list match true list on datafram\n",
    "final_input.loc[0, features_list] = 1\n",
    "\n",
    "\n",
    "# Use the car_eval Random Forest Classifier with dataframe input\n",
    "car_score = car_eval.predict(final_input)\n",
    "    \n",
    "acceptability = np.array2string(car_score)\n",
    "    \n",
    "\n",
    "data = \"Your car is in \" + acceptability + \"condition\""
   ]
  },
  {
   "cell_type": "code",
   "execution_count": 175,
   "id": "43341d2b",
   "metadata": {},
   "outputs": [
    {
     "data": {
      "text/html": [
       "<div>\n",
       "<style scoped>\n",
       "    .dataframe tbody tr th:only-of-type {\n",
       "        vertical-align: middle;\n",
       "    }\n",
       "\n",
       "    .dataframe tbody tr th {\n",
       "        vertical-align: top;\n",
       "    }\n",
       "\n",
       "    .dataframe thead th {\n",
       "        text-align: right;\n",
       "    }\n",
       "</style>\n",
       "<table border=\"1\" class=\"dataframe\">\n",
       "  <thead>\n",
       "    <tr style=\"text-align: right;\">\n",
       "      <th></th>\n",
       "      <th>buy price_high</th>\n",
       "      <th>buy price_low</th>\n",
       "      <th>buy price_med</th>\n",
       "      <th>buy price_vhigh</th>\n",
       "      <th>maint price_high</th>\n",
       "      <th>maint price_low</th>\n",
       "      <th>maint price_med</th>\n",
       "      <th>maint price_vhigh</th>\n",
       "      <th>doors_2</th>\n",
       "      <th>doors_3</th>\n",
       "      <th>...</th>\n",
       "      <th>doors_5more</th>\n",
       "      <th>passengers_2</th>\n",
       "      <th>passengers_4</th>\n",
       "      <th>passengers_more</th>\n",
       "      <th>boot_big</th>\n",
       "      <th>boot_med</th>\n",
       "      <th>boot_small</th>\n",
       "      <th>safety_high</th>\n",
       "      <th>safety_low</th>\n",
       "      <th>safety_med</th>\n",
       "    </tr>\n",
       "  </thead>\n",
       "  <tbody>\n",
       "    <tr>\n",
       "      <th>0</th>\n",
       "      <td>0.0</td>\n",
       "      <td>0.0</td>\n",
       "      <td>0.0</td>\n",
       "      <td>1.0</td>\n",
       "      <td>1.0</td>\n",
       "      <td>0.0</td>\n",
       "      <td>0.0</td>\n",
       "      <td>0.0</td>\n",
       "      <td>1.0</td>\n",
       "      <td>0.0</td>\n",
       "      <td>...</td>\n",
       "      <td>0.0</td>\n",
       "      <td>1.0</td>\n",
       "      <td>0.0</td>\n",
       "      <td>0.0</td>\n",
       "      <td>0.0</td>\n",
       "      <td>0.0</td>\n",
       "      <td>1.0</td>\n",
       "      <td>0.0</td>\n",
       "      <td>1.0</td>\n",
       "      <td>0.0</td>\n",
       "    </tr>\n",
       "  </tbody>\n",
       "</table>\n",
       "<p>1 rows × 21 columns</p>\n",
       "</div>"
      ],
      "text/plain": [
       "   buy price_high  buy price_low  buy price_med  buy price_vhigh  \\\n",
       "0             0.0            0.0            0.0              1.0   \n",
       "\n",
       "   maint price_high  maint price_low  maint price_med  maint price_vhigh  \\\n",
       "0               1.0              0.0              0.0                0.0   \n",
       "\n",
       "   doors_2  doors_3  ...  doors_5more  passengers_2  passengers_4  \\\n",
       "0      1.0      0.0  ...          0.0           1.0           0.0   \n",
       "\n",
       "   passengers_more  boot_big  boot_med  boot_small  safety_high  safety_low  \\\n",
       "0              0.0       0.0       0.0         1.0          0.0         1.0   \n",
       "\n",
       "   safety_med  \n",
       "0         0.0  \n",
       "\n",
       "[1 rows x 21 columns]"
      ]
     },
     "execution_count": 175,
     "metadata": {},
     "output_type": "execute_result"
    }
   ],
   "source": [
    "feature_inputdf.head()"
   ]
  },
  {
   "cell_type": "code",
   "execution_count": 176,
   "id": "d1a28ed2",
   "metadata": {},
   "outputs": [
    {
     "data": {
      "text/plain": [
       "array([[0., 0., 0., 0., 0., 0., 0., 0., 0., 0., 0., 0., 0., 0., 0., 0.,\n",
       "        0., 0., 0., 0., 0.]])"
      ]
     },
     "execution_count": 176,
     "metadata": {},
     "output_type": "execute_result"
    }
   ],
   "source": [
    "zeros = np.zeros((1,21))\n",
    "zeros"
   ]
  },
  {
   "cell_type": "code",
   "execution_count": 179,
   "id": "f475817a",
   "metadata": {
    "scrolled": true
   },
   "outputs": [
    {
     "data": {
      "text/plain": [
       "Index(['buy price_high', 'buy price_low', 'buy price_med', 'buy price_vhigh',\n",
       "       'maint price_high', 'maint price_low', 'maint price_med',\n",
       "       'maint price_vhigh', 'doors_2', 'doors_3', 'doors_4', 'doors_5more',\n",
       "       'passengers_2', 'passengers_4', 'passengers_more', 'boot_big',\n",
       "       'boot_med', 'boot_small', 'safety_high', 'safety_low', 'safety_med'],\n",
       "      dtype='object')"
      ]
     },
     "execution_count": 179,
     "metadata": {},
     "output_type": "execute_result"
    }
   ],
   "source": [
    "feature_inputdf.columns\n"
   ]
  },
  {
   "cell_type": "code",
   "execution_count": 190,
   "id": "f93bf3a1",
   "metadata": {},
   "outputs": [
    {
     "data": {
      "text/html": [
       "<div>\n",
       "<style scoped>\n",
       "    .dataframe tbody tr th:only-of-type {\n",
       "        vertical-align: middle;\n",
       "    }\n",
       "\n",
       "    .dataframe tbody tr th {\n",
       "        vertical-align: top;\n",
       "    }\n",
       "\n",
       "    .dataframe thead th {\n",
       "        text-align: right;\n",
       "    }\n",
       "</style>\n",
       "<table border=\"1\" class=\"dataframe\">\n",
       "  <thead>\n",
       "    <tr style=\"text-align: right;\">\n",
       "      <th></th>\n",
       "      <th>buy price_high</th>\n",
       "      <th>buy price_low</th>\n",
       "      <th>buy price_med</th>\n",
       "      <th>buy price_vhigh</th>\n",
       "      <th>maint price_high</th>\n",
       "      <th>maint price_low</th>\n",
       "      <th>maint price_med</th>\n",
       "      <th>maint price_vhigh</th>\n",
       "      <th>doors_2</th>\n",
       "      <th>doors_3</th>\n",
       "      <th>...</th>\n",
       "      <th>doors_5more</th>\n",
       "      <th>passengers_2</th>\n",
       "      <th>passengers_4</th>\n",
       "      <th>passengers_more</th>\n",
       "      <th>boot_big</th>\n",
       "      <th>boot_med</th>\n",
       "      <th>boot_small</th>\n",
       "      <th>safety_high</th>\n",
       "      <th>safety_low</th>\n",
       "      <th>safety_med</th>\n",
       "    </tr>\n",
       "  </thead>\n",
       "  <tbody>\n",
       "    <tr>\n",
       "      <th>0</th>\n",
       "      <td>0.0</td>\n",
       "      <td>0.0</td>\n",
       "      <td>0.0</td>\n",
       "      <td>0.0</td>\n",
       "      <td>0.0</td>\n",
       "      <td>0.0</td>\n",
       "      <td>0.0</td>\n",
       "      <td>0.0</td>\n",
       "      <td>0.0</td>\n",
       "      <td>0.0</td>\n",
       "      <td>...</td>\n",
       "      <td>0.0</td>\n",
       "      <td>0.0</td>\n",
       "      <td>0.0</td>\n",
       "      <td>0.0</td>\n",
       "      <td>0.0</td>\n",
       "      <td>0.0</td>\n",
       "      <td>0.0</td>\n",
       "      <td>0.0</td>\n",
       "      <td>0.0</td>\n",
       "      <td>0.0</td>\n",
       "    </tr>\n",
       "  </tbody>\n",
       "</table>\n",
       "<p>1 rows × 21 columns</p>\n",
       "</div>"
      ],
      "text/plain": [
       "   buy price_high  buy price_low  buy price_med  buy price_vhigh  \\\n",
       "0             0.0            0.0            0.0              0.0   \n",
       "\n",
       "   maint price_high  maint price_low  maint price_med  maint price_vhigh  \\\n",
       "0               0.0              0.0              0.0                0.0   \n",
       "\n",
       "   doors_2  doors_3  ...  doors_5more  passengers_2  passengers_4  \\\n",
       "0      0.0      0.0  ...          0.0           0.0           0.0   \n",
       "\n",
       "   passengers_more  boot_big  boot_med  boot_small  safety_high  safety_low  \\\n",
       "0              0.0       0.0       0.0         0.0          0.0         0.0   \n",
       "\n",
       "   safety_med  \n",
       "0         0.0  \n",
       "\n",
       "[1 rows x 21 columns]"
      ]
     },
     "execution_count": 190,
     "metadata": {},
     "output_type": "execute_result"
    }
   ],
   "source": [
    "carfeature = pd.read_csv('carfeature_input.csv',index_col=[0])\n",
    "carfeature"
   ]
  },
  {
   "cell_type": "code",
   "execution_count": 195,
   "id": "174edd8b",
   "metadata": {},
   "outputs": [
    {
     "data": {
      "text/plain": [
       "\"['unacc']\""
      ]
     },
     "execution_count": 195,
     "metadata": {},
     "output_type": "execute_result"
    }
   ],
   "source": [
    "y_predict = car_eval.predict(final_input)\n",
    "y_predict\n",
    "acceptability = np.array2string(y_predict)\n",
    "acceptability"
   ]
  },
  {
   "cell_type": "code",
   "execution_count": null,
   "id": "fe978e89",
   "metadata": {},
   "outputs": [],
   "source": [
    "import sqlite3\n",
    "\n",
    "conn = sqlite3.connect('AA_db.sqlite')\n",
    "cur = conn.cursor()\n",
    "cur.execute('CREATE TABLE experiments (name VARCHAR, description VARCHAR)')\n",
    "conn.commit()"
   ]
  }
 ],
 "metadata": {
  "kernelspec": {
   "display_name": "Python 3",
   "language": "python",
   "name": "python3"
  },
  "language_info": {
   "codemirror_mode": {
    "name": "ipython",
    "version": 3
   },
   "file_extension": ".py",
   "mimetype": "text/x-python",
   "name": "python",
   "nbconvert_exporter": "python",
   "pygments_lexer": "ipython3",
   "version": "3.8.8"
  }
 },
 "nbformat": 4,
 "nbformat_minor": 5
}
